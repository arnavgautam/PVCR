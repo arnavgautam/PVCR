{
 "cells": [
  {
   "cell_type": "code",
   "execution_count": 5,
   "metadata": {},
   "outputs": [],
   "source": [
    "include(\"PVCR.jl\");"
   ]
  },
  {
   "cell_type": "code",
   "execution_count": 9,
   "metadata": {},
   "outputs": [
    {
     "name": "stdout",
     "output_type": "stream",
     "text": [
      "month consumer_energy PV_energy  | injection_grid withdrawn_energy grid_energy  | global_generation global_withdrawal global_allowance max_surplus carryover \n",
      "1 544.52 0.0  | 0.0 0.0 544.52  | 0.0 0.0 0.0 0.0 0.0 \n",
      "2 545.94 0.0  | 0.0 0.0 545.94  | 0.0 0.0 0.0 0.0 0.0 \n",
      "3 553.86 0.0  | 0.0 0.0 553.86  | 0.0 0.0 0.0 0.0 0.0 \n",
      "4 540.02 0.0  | 0.0 0.0 540.02  | 0.0 0.0 0.0 0.0 0.0 \n",
      "5 553.97 0.0  | 0.0 0.0 553.97  | 0.0 0.0 0.0 0.0 0.0 \n",
      "6 557.19 0.0  | 0.0 0.0 557.19  | 0.0 0.0 0.0 0.0 0.0 \n",
      "7 539.8 0.0  | 0.0 0.0 539.8  | 0.0 0.0 0.0 0.0 0.0 \n",
      "8 546.55 0.0  | 0.0 0.0 546.55  | 0.0 0.0 0.0 0.0 0.0 \n",
      "9 537.63 0.0  | 0.0 0.0 537.63  | 0.0 0.0 0.0 0.0 0.0 \n",
      "10 560.88 0.0  | 0.0 0.0 560.88  | 0.0 0.0 0.0 0.0 0.0 \n",
      "11 556.88 0.0  | 0.0 0.0 556.88  | 0.0 0.0 0.0 0.0 0.0 \n",
      "12 557.68 0.0  | 0.0 0.0 557.68  | 0.0 0.0 0.0 0.0 0.0 \n"
     ]
    }
   ],
   "source": [
    "PVRes.capacity = 0.0\n",
    "ebalance = annual_energy_balance(residential, PVRes, print_output=true);"
   ]
  },
  {
   "cell_type": "code",
   "execution_count": 10,
   "metadata": {},
   "outputs": [
    {
     "data": {
      "text/plain": [
       "Dict{String,Float64} with 12 entries:\n",
       "  \"PV_energy\"         => 0.0\n",
       "  \"max_surplus\"       => 0.0\n",
       "  \"consumer_energy\"   => 544.518\n",
       "  \"withdrawn_energy\"  => 0.0\n",
       "  \"peak_demand\"       => 1.17594\n",
       "  \"injection_grid\"    => 0.0\n",
       "  \"grid_energy\"       => 544.518\n",
       "  \"global_generation\" => 0.0\n",
       "  \"peak_power\"        => 1.17594\n",
       "  \"global_allowance\"  => 0.0\n",
       "  \"carry_over\"        => 0.0\n",
       "  \"global_withdrawal\" => 0.0"
      ]
     },
     "execution_count": 10,
     "metadata": {},
     "output_type": "execute_result"
    }
   ],
   "source": [
    "ebalance[1]"
   ]
  },
  {
   "cell_type": "code",
   "execution_count": 11,
   "metadata": {},
   "outputs": [
    {
     "name": "stdout",
     "output_type": "stream",
     "text": [
      "grid_cost withdrawn_energy_cost total_cost | counterfactual_cost savings\n",
      "66173.06 0.0 77844.84  | 77844.84 0.0\n",
      "66315.26 0.0 78013.0  | 78013.0 0.0\n",
      "67108.86 0.0 78951.48  | 78951.48 0.0\n",
      "65722.62 0.0 77312.17  | 77312.17 0.0\n",
      "67119.36 0.0 78963.89  | 78963.89 0.0\n",
      "67441.84 0.0 79345.24  | 79345.24 0.0\n",
      "65700.75 0.0 77286.32  | 77286.32 0.0\n",
      "66376.43 0.0 78085.34  | 78085.34 0.0\n",
      "65483.17 0.0 77029.01  | 77029.01 0.0\n",
      "67811.07 0.0 79781.88  | 79781.88 0.0\n",
      "67411.27 0.0 79309.09  | 79309.09 0.0\n",
      "67491.22 0.0 79403.63  | 79403.63 0.0\n"
     ]
    }
   ],
   "source": [
    "bills_residential = Dict()\n",
    "println(\"grid_cost\",\" \",\"withdrawn_energy_cost\",\" \", \"total_cost\", \" | \", \"counterfactual_cost\", \" \", \"savings\")\n",
    "for m in 1:12\n",
    "    bills_residential[m] = monthly_bill(ebalance[m], residential, print_output=true)\n",
    "end"
   ]
  },
  {
   "cell_type": "code",
   "execution_count": null,
   "metadata": {},
   "outputs": [],
   "source": []
  },
  {
   "cell_type": "code",
   "execution_count": null,
   "metadata": {},
   "outputs": [],
   "source": []
  }
 ],
 "metadata": {
  "kernelspec": {
   "display_name": "Julia 1.1.0",
   "language": "julia",
   "name": "julia-1.1"
  },
  "language_info": {
   "file_extension": ".jl",
   "mimetype": "application/julia",
   "name": "julia",
   "version": "1.1.0"
  }
 },
 "nbformat": 4,
 "nbformat_minor": 2
}
