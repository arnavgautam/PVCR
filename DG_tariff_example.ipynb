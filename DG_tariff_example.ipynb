{
 "cells": [
  {
   "cell_type": "code",
   "execution_count": 1,
   "metadata": {},
   "outputs": [],
   "source": [
    "include(\"PVCR.jl\");"
   ]
  },
  {
   "cell_type": "markdown",
   "metadata": {},
   "source": [
    "# Residential cases"
   ]
  },
  {
   "cell_type": "markdown",
   "metadata": {},
   "source": [
    "## Residential Case 1: Small PV System, this doesn't generate any injection into the grid"
   ]
  },
  {
   "cell_type": "code",
   "execution_count": null,
   "metadata": {},
   "outputs": [],
   "source": [
    "PVRes.capacity = 1.0\n",
    "ts=simulate(residential, PVRes, 3);\n",
    "plot(ts[\"demand_curve\"], label = \"Residential Demand Curve\")\n",
    "legend(bbox_to_anchor=(1.05, 1), loc=2, borderaxespad=0.)\n",
    "xlabel(\"Hour\")\n",
    "ylim(0,1.2)\n",
    "ylabel(\"Power [kW]\")\n",
    "grid(\"on\")\n",
    "xticks([0,12,24,36,48,60,72]);"
   ]
  },
  {
   "cell_type": "code",
   "execution_count": null,
   "metadata": {},
   "outputs": [],
   "source": [
    "hours = 1:72\n",
    "fill_between(hours, ts[\"injection_grid_h\"], label = \"Net injection into the grid\", alpha = 0.8)\n",
    "fill_between(hours, ts[\"pv_curve\"], label = \"PV Curve\", alpha = 0.8, color=\"yellow\")\n",
    "fill_between(hours, ts[\"withdrawal_h\"],  label = \"Carryover withdrawal\")\n",
    "plot(hours, ts[\"demand_curve\"], label = \"Total Demand\", color = \"red\")\n",
    "legend(bbox_to_anchor=(1.05, 1), loc=2, borderaxespad=0.)\n",
    "xlabel(\"Hour\")\n",
    "ylabel(\"Power [kW]\")\n",
    "grid(\"on\")\n",
    "xticks([0,12,24,36,48,60,72]);"
   ]
  },
  {
   "cell_type": "markdown",
   "metadata": {},
   "source": [
    "### Energy Balance for case residential 1"
   ]
  },
  {
   "cell_type": "code",
   "execution_count": null,
   "metadata": {},
   "outputs": [],
   "source": [
    "ebalance = annual_energy_balance(residential, PVRes, print_output=true);"
   ]
  },
  {
   "cell_type": "markdown",
   "metadata": {},
   "source": [
    "### Billings case residential 1"
   ]
  },
  {
   "cell_type": "code",
   "execution_count": null,
   "metadata": {},
   "outputs": [],
   "source": [
    "bills_residential = Dict()\n",
    "println(\"grid_cost\",\" \",\"withdrawn_energy_cost\",\" \", \"demand_charge\", \" \", \"total_cost\", \" | \", \"counterfactual_cost\", \" \", \"savings\")\n",
    "for m in 1:12\n",
    "    bills_residential[m] = monthly_bill(ebalance[m], residential, print_output=true)\n",
    "end"
   ]
  },
  {
   "cell_type": "code",
   "execution_count": null,
   "metadata": {},
   "outputs": [],
   "source": [
    "plot_bill(bills_residential, [\"grid_cost\", \"withdrawn_energy_cost\", \"demand_charge\", \"VAT\", \"street_light\", \"firefighters\"]);"
   ]
  },
  {
   "cell_type": "markdown",
   "metadata": {},
   "source": [
    "## Residential Case 2: Medium Size PV System, produces some injection into the grid "
   ]
  },
  {
   "cell_type": "code",
   "execution_count": null,
   "metadata": {},
   "outputs": [],
   "source": [
    "PVRes.capacity = 2.0\n",
    "ts=simulate(residential, PVRes, 3);"
   ]
  },
  {
   "cell_type": "code",
   "execution_count": null,
   "metadata": {},
   "outputs": [],
   "source": [
    "hours = 1:72\n",
    "fill_between(hours, ts[\"injection_grid_h\"], label = \"Net injection into the grid\", alpha = 0.8)\n",
    "fill_between(hours, ts[\"pv_curve\"], label = \"PV Curve\", alpha = 0.8, color=\"yellow\")\n",
    "fill_between(hours, ts[\"withdrawal_h\"],  label = \"Carryover withdrawal\")\n",
    "plot(hours, ts[\"demand_curve\"], label = \"Total Demand\", color = \"red\")\n",
    "legend(bbox_to_anchor=(1.05, 1), loc=2, borderaxespad=0.)\n",
    "xlabel(\"Hour\")\n",
    "xlim(1,72)\n",
    "ylabel(\"Power [kW]\")\n",
    "grid(\"on\")\n",
    "xticks([0,12,24,36,48,60,72]);"
   ]
  },
  {
   "cell_type": "markdown",
   "metadata": {},
   "source": [
    "### Energy Balance for case residential 2"
   ]
  },
  {
   "cell_type": "code",
   "execution_count": null,
   "metadata": {},
   "outputs": [],
   "source": [
    "ebalance = annual_energy_balance(residential, PVRes, print_output=true);"
   ]
  },
  {
   "cell_type": "markdown",
   "metadata": {},
   "source": [
    "### Billings case residential 2"
   ]
  },
  {
   "cell_type": "code",
   "execution_count": null,
   "metadata": {},
   "outputs": [],
   "source": [
    "bills_residential = Dict()\n",
    "println(\"grid_cost\",\" \",\"withdrawn_energy_cost\",\" \", \"demand_charge\", \" \", \"total_cost\", \" | \", \"counterfactual_cost\", \" \", \"savings\")\n",
    "for m in 1:12\n",
    "    bills_residential[m] = monthly_bill(ebalance[m], residential, print_output=true)\n",
    "end"
   ]
  },
  {
   "cell_type": "code",
   "execution_count": null,
   "metadata": {},
   "outputs": [],
   "source": [
    "plot_bill(bills_residential, [\"grid_cost\", \"withdrawn_energy_cost\", \"demand_charge\", \"VAT\", \"street_light\", \"firefighters\"]);"
   ]
  },
  {
   "cell_type": "markdown",
   "metadata": {},
   "source": [
    "## Residential Case 3: Large PV System that generates multi-day carry over"
   ]
  },
  {
   "cell_type": "code",
   "execution_count": null,
   "metadata": {},
   "outputs": [],
   "source": [
    "PVRes.capacity = 4.0\n",
    "ts=simulate(residential, PVRes, 3);"
   ]
  },
  {
   "cell_type": "code",
   "execution_count": null,
   "metadata": {},
   "outputs": [],
   "source": [
    "hours = 1:72\n",
    "fill_between(hours, ts[\"injection_grid_h\"], label = \"Net injection into the grid\", alpha = 0.8)\n",
    "fill_between(hours, ts[\"pv_curve\"], label = \"PV Curve\", alpha = 0.8, color=\"yellow\")\n",
    "fill_between(hours, ts[\"withdrawal_h\"],  label = \"Carryover withdrawal\")\n",
    "plot(hours, ts[\"demand_curve\"], label = \"Total Demand\", color = \"red\")\n",
    "legend(bbox_to_anchor=(1.05, 1), loc=2, borderaxespad=0.)\n",
    "xlabel(\"Hour\")\n",
    "ylabel(\"Power [kW]\")\n",
    "grid(\"on\")\n",
    "xticks([0,12,24,36,48,60,72]);"
   ]
  },
  {
   "cell_type": "markdown",
   "metadata": {},
   "source": [
    "### Energy Balance for case residential 3"
   ]
  },
  {
   "cell_type": "code",
   "execution_count": null,
   "metadata": {},
   "outputs": [],
   "source": [
    "ebalance = annual_energy_balance(residential, PVRes, print_output=true);"
   ]
  },
  {
   "cell_type": "markdown",
   "metadata": {},
   "source": [
    "### Billings case residential 3"
   ]
  },
  {
   "cell_type": "code",
   "execution_count": null,
   "metadata": {},
   "outputs": [],
   "source": [
    "bills_residential = Dict()\n",
    "println(\"grid_cost\",\" \",\"withdrawn_energy_cost\",\" \", \"demand_charge\", \" \", \"total_cost\", \" | \", \"counterfactual_cost\", \" \", \"savings\")\n",
    "for m in 1:12\n",
    "    bills_residential[m] = monthly_bill(ebalance[m], residential, print_output=true)\n",
    "end"
   ]
  },
  {
   "cell_type": "code",
   "execution_count": null,
   "metadata": {},
   "outputs": [],
   "source": [
    "plot_bill(bills_residential, [\"grid_cost\", \"withdrawn_energy_cost\", \"demand_charge\", \"VAT\", \"street_light\", \"firefighters\"]);"
   ]
  },
  {
   "cell_type": "markdown",
   "metadata": {},
   "source": [
    "# Commercial consumer subject to commercial and small size industrial tariff cases"
   ]
  },
  {
   "cell_type": "markdown",
   "metadata": {},
   "source": [
    "## Commercial case1: small PV system"
   ]
  },
  {
   "cell_type": "code",
   "execution_count": null,
   "metadata": {},
   "outputs": [],
   "source": [
    "ts=simulate(commercial, PVComInd, 3);\n",
    "plot(ts[\"demand_curve\"], label = \"Commercial Demand Curve\")\n",
    "legend(bbox_to_anchor=(1.05, 1), loc=2, borderaxespad=0.)\n",
    "xlabel(\"Hour\")\n",
    "ylim(0,15)\n",
    "ylabel(\"Power [kW]\")\n",
    "grid(\"on\")\n",
    "xticks([0,12,24,36,48,60,72]);"
   ]
  },
  {
   "cell_type": "code",
   "execution_count": null,
   "metadata": {},
   "outputs": [],
   "source": [
    "hours = 1:72\n",
    "fill_between(hours, ts[\"injection_grid_h\"], label = \"Net injection into the grid\", alpha = 0.8)\n",
    "fill_between(hours, ts[\"pv_curve\"], label = \"PV Curve\", alpha = 0.8, color=\"yellow\")\n",
    "fill_between(hours, ts[\"withdrawal_h\"],  label = \"Carryover withdrawal\")\n",
    "plot(hours, ts[\"demand_curve\"], label = \"Total Demand\", color = \"red\")\n",
    "legend(bbox_to_anchor=(1.05, 1), loc=2, borderaxespad=0.)\n",
    "xlabel(\"Hour\")\n",
    "ylabel(\"Power [kW]\")\n",
    "grid(\"on\")\n",
    "xticks([0,12,24,36,48,60,72]);"
   ]
  },
  {
   "cell_type": "code",
   "execution_count": null,
   "metadata": {},
   "outputs": [],
   "source": [
    "ebalance = annual_energy_balance(commercial, PVComInd, print_output=true);"
   ]
  },
  {
   "cell_type": "code",
   "execution_count": null,
   "metadata": {},
   "outputs": [],
   "source": [
    "bills_commercial = Dict()\n",
    "println(\"grid_cost\",\" \",\"withdrawn_energy_cost\",\" \", \"total_energy_cost\", \" \", \"total_demand_charges\", \" | \", \n",
    "        \"counterfactual_energy_cost\", \" \", \"counterfactual_demand_cost\", \" \", \"counterfactual_cost\", \" \", \" | \", \"savings\")\n",
    "for m in 1:12\n",
    "    bills_commercial[m] = monthly_bill(ebalance[m], commercial, print_output=true)\n",
    "end"
   ]
  },
  {
   "cell_type": "code",
   "execution_count": null,
   "metadata": {},
   "outputs": [],
   "source": [
    "plot_bill(bills_commercial, [\"grid_cost\", \"withdrawn_energy_cost\", \"demand_charges\", \"VAT\", \"street_light\", \"firefighters\"]);"
   ]
  },
  {
   "cell_type": "markdown",
   "metadata": {},
   "source": [
    "## Commercial case 2: medium PV system"
   ]
  },
  {
   "cell_type": "code",
   "execution_count": null,
   "metadata": {},
   "outputs": [],
   "source": [
    "PVComInd.capacity = 21.0\n",
    "ts=simulate(commercial, PVComInd, 3);"
   ]
  },
  {
   "cell_type": "code",
   "execution_count": null,
   "metadata": {},
   "outputs": [],
   "source": [
    "hours = 1:72\n",
    "fill_between(hours, ts[\"injection_grid_h\"], label = \"Net injection into the grid\", alpha = 0.8)\n",
    "fill_between(hours, ts[\"pv_curve\"], label = \"PV Curve\", alpha = 0.8, color=\"yellow\")\n",
    "fill_between(hours, ts[\"withdrawal_h\"],  label = \"Carryover withdrawal\")\n",
    "plot(hours, ts[\"demand_curve\"], label = \"Total Demand\", color = \"red\")\n",
    "legend(bbox_to_anchor=(1.05, 1), loc=2, borderaxespad=0.)\n",
    "xlabel(\"Hour\")\n",
    "ylabel(\"Power [kW]\")\n",
    "grid(\"on\")\n",
    "xticks([0,12,24,36,48,60,72]);"
   ]
  },
  {
   "cell_type": "code",
   "execution_count": null,
   "metadata": {},
   "outputs": [],
   "source": [
    "ebalance = annual_energy_balance(commercial, PVComInd, print_output=true);"
   ]
  },
  {
   "cell_type": "code",
   "execution_count": null,
   "metadata": {},
   "outputs": [],
   "source": [
    "bills_commercial = Dict()\n",
    "println(\"grid_cost\",\" \",\"withdrawn_energy_cost\",\" \", \"demand_cost\", \" \", \"total_cost\", \" | \", \n",
    "        \"counterfactual_energy_cost\", \" \", \"counterfactual_demand_cost\", \" \", \"counterfactual_cost\", \" \", \" | \", \"savings\")\n",
    "for m in 1:12\n",
    "    bills_commercial[m] = monthly_bill(ebalance[m], commercial, print_output=true)\n",
    "end"
   ]
  },
  {
   "cell_type": "code",
   "execution_count": null,
   "metadata": {},
   "outputs": [],
   "source": [
    "plot_bill(bills_commercial, [\"grid_cost\", \"withdrawn_energy_cost\", \"demand_charges\", \"VAT\", \"street_light\", \"firefighters\"]);"
   ]
  },
  {
   "cell_type": "markdown",
   "metadata": {},
   "source": [
    "## Commercial case 3: Large PV system"
   ]
  },
  {
   "cell_type": "code",
   "execution_count": null,
   "metadata": {},
   "outputs": [],
   "source": [
    "PVComInd.capacity = 32.0\n",
    "ts=simulate(commercial, PVComInd, 3);"
   ]
  },
  {
   "cell_type": "code",
   "execution_count": null,
   "metadata": {},
   "outputs": [],
   "source": [
    "hours = 1:72\n",
    "fill_between(hours, ts[\"injection_grid_h\"], label = \"Net injection into the grid\", alpha = 0.8)\n",
    "fill_between(hours, ts[\"pv_curve\"], label = \"PV Curve\", alpha = 0.8, color=\"yellow\")\n",
    "fill_between(hours, ts[\"withdrawal_h\"],  label = \"Carryover withdrawal\")\n",
    "plot(hours, ts[\"demand_curve\"], label = \"Total Demand\", color = \"red\")\n",
    "legend(bbox_to_anchor=(1.05, 1), loc=2, borderaxespad=0.)\n",
    "xlabel(\"Hour\")\n",
    "ylabel(\"Power [kW]\")\n",
    "grid(\"on\")\n",
    "xticks([0,12,24,36,48,60,72]);"
   ]
  },
  {
   "cell_type": "code",
   "execution_count": null,
   "metadata": {},
   "outputs": [],
   "source": [
    "ebalance = annual_energy_balance(commercial, PVComInd, print_output=true);"
   ]
  },
  {
   "cell_type": "code",
   "execution_count": null,
   "metadata": {},
   "outputs": [],
   "source": [
    "bills_commercial = Dict()\n",
    "println(\"grid_cost\",\" \",\"withdrawn_energy_cost\",\" \", \"total_energy_cost\", \" \", \"total_demand_charges\", \" | \", \n",
    "        \"counterfactual_energy_cost\", \" \", \"counterfactual_demand_cost\", \" \", \"counterfactual_cost\", \" \", \" | \", \"savings\")\n",
    "for m in 1:12\n",
    "    bills_commercial[m] = monthly_bill(ebalance[m], commercial, print_output=true)\n",
    "end"
   ]
  },
  {
   "cell_type": "code",
   "execution_count": null,
   "metadata": {},
   "outputs": [],
   "source": [
    "plot_bill(bills_commercial, [\"grid_cost\", \"withdrawn_energy_cost\", \"demand_charges\", \"VAT\", \"street_light\", \"firefighters\"])"
   ]
  },
  {
   "cell_type": "markdown",
   "metadata": {},
   "source": [
    "# Medium Voltage (TMT) cases, users are medium to large industrial consumers."
   ]
  },
  {
   "cell_type": "markdown",
   "metadata": {},
   "source": [
    "## TMT case 1: small PV system"
   ]
  },
  {
   "cell_type": "code",
   "execution_count": null,
   "metadata": {},
   "outputs": [],
   "source": [
    "ts=simulate(mediumvoltage, PVTMT, 3);\n",
    "plot(ts[\"demand_curve\"], label = \"Industrial Demand Curve\")\n",
    "legend(bbox_to_anchor=(1.05, 1), loc=2, borderaxespad=0.)\n",
    "ylim(0,52)\n",
    "xlabel(\"Hour\")\n",
    "ylabel(\"Power [kW]\")\n",
    "grid(\"on\")\n",
    "xticks([0,12,24,36,48,60,72]);"
   ]
  },
  {
   "cell_type": "code",
   "execution_count": null,
   "metadata": {},
   "outputs": [],
   "source": [
    "hours = 1:72\n",
    "fill_between(hours, ts[\"injection_grid_h\"], label = \"Net injection into the grid\", alpha = 0.8)\n",
    "fill_between(hours, ts[\"pv_curve\"], label = \"PV Curve\", alpha = 0.8, color=\"yellow\")\n",
    "fill_between(hours, ts[\"withdrawal_h\"],  label = \"Carryover withdrawal\")\n",
    "plot(hours, ts[\"demand_curve\"], label = \"Total Demand\", color = \"red\")\n",
    "legend(bbox_to_anchor=(1.05, 1), loc=2, borderaxespad=0.)\n",
    "xlabel(\"Hour\")\n",
    "ylabel(\"Power [kW]\")\n",
    "grid(\"on\")\n",
    "xticks([0,12,24,36,48,60,72]);"
   ]
  },
  {
   "cell_type": "code",
   "execution_count": null,
   "metadata": {},
   "outputs": [],
   "source": [
    "ebalance = annual_energy_balance(mediumvoltage, PVTMT, print_output=true);"
   ]
  },
  {
   "cell_type": "code",
   "execution_count": null,
   "metadata": {},
   "outputs": [],
   "source": [
    "bills_TMT= Dict()\n",
    "println(\"grid_energy_cost_peak\", \" \",    \n",
    "        \"grid_energy_cost_valley\", \" \",\n",
    "        \"grid_energy_cost_night\", \" \", \n",
    "        \" | \",\n",
    "        \"withdrawn_energy_cost\", \" \",       \n",
    "        \" | \",      \n",
    "        \"counterfactual_energy_cost_peak\", \" \",\n",
    "        \"counterfactual_energy_cost_valley\",\" \",\n",
    "        \"counterfactual_energy_cost_night\",\" \",        \n",
    "         \" | \",\n",
    "        \"grid_demand_cost_peak\", \" \",    \n",
    "        \"grid_demand_cost_valley\", \" \",\n",
    "        \"grid_demand_cost_night\", \" \", \n",
    "        \" | \",  \n",
    "        \"counterfactual_demand_cost_peak\", \" \",\n",
    "        \"counterfactual_demand_cost_valley\",\" \",\n",
    "        \"counterfactual_demand_cost_night\",\" \",        \n",
    "         \" | \",\n",
    "        \"total_savings\")\n",
    "for m in 1:12\n",
    "    bills_TMT[m] = monthly_bill(ebalance[m], mediumvoltage, print_output=true)\n",
    "end"
   ]
  },
  {
   "cell_type": "code",
   "execution_count": null,
   "metadata": {},
   "outputs": [],
   "source": [
    "bills_TMT[1]"
   ]
  },
  {
   "cell_type": "code",
   "execution_count": null,
   "metadata": {},
   "outputs": [],
   "source": [
    "fields = [\"grid_energy_cost_peak\", \n",
    "        \"grid_energy_cost_valley\",\n",
    "        \"grid_energy_cost_night\", \n",
    "        \"withdrawn_energy_cost\",      \n",
    "        \"grid_demand_cost_peak\",    \n",
    "        \"grid_demand_cost_valley\", \n",
    "        \"grid_demand_cost_night\",\n",
    "        \"VAT\", \"street_light\", \"firefighters\"]\n",
    "plot_bill(bills_TMT, fields);"
   ]
  },
  {
   "cell_type": "markdown",
   "metadata": {},
   "source": [
    "## TMT Case2: Medium PV System"
   ]
  },
  {
   "cell_type": "code",
   "execution_count": null,
   "metadata": {},
   "outputs": [],
   "source": [
    "PVTMT.capacity = 75\n",
    "ts=simulate(mediumvoltage, PVTMT, 3);"
   ]
  },
  {
   "cell_type": "code",
   "execution_count": null,
   "metadata": {},
   "outputs": [],
   "source": [
    "hours = 1:72\n",
    "fill_between(hours, ts[\"injection_grid_h\"], label = \"Net injection into the grid\", alpha = 0.8)\n",
    "fill_between(hours, ts[\"pv_curve\"], label = \"PV Curve\", alpha = 0.8, color=\"yellow\")\n",
    "fill_between(hours, ts[\"withdrawal_h\"],  label = \"Carryover withdrawal\")\n",
    "plot(hours, ts[\"demand_curve\"], label = \"Total Demand\", color = \"red\")\n",
    "legend(bbox_to_anchor=(1.05, 1), loc=2, borderaxespad=0.)\n",
    "xlabel(\"Hour\")\n",
    "ylabel(\"Power [kW]\")\n",
    "grid(\"on\")\n",
    "xticks([0,12,24,36,48,60,72]);"
   ]
  },
  {
   "cell_type": "code",
   "execution_count": null,
   "metadata": {},
   "outputs": [],
   "source": [
    "ebalance = annual_energy_balance(mediumvoltage, PVTMT, print_output=true);"
   ]
  },
  {
   "cell_type": "code",
   "execution_count": null,
   "metadata": {},
   "outputs": [],
   "source": [
    "bills_TMT= Dict()\n",
    "println(\"grid_energy_cost_peak\", \" \",    \n",
    "        \"grid_energy_cost_valley\", \" \",\n",
    "        \"grid_energy_cost_night\", \" \", \n",
    "        \" | \",\n",
    "        \"withdrawn_energy_cost\", \" \",       \n",
    "        \" | \",      \n",
    "        \"counterfactual_energy_cost_peak\", \" \",\n",
    "        \"counterfactual_energy_cost_valley\",\" \",\n",
    "        \"counterfactual_energy_cost_night\",\" \",        \n",
    "         \" | \",\n",
    "        \"grid_demand_cost_peak\", \" \",    \n",
    "        \"grid_demand_cost_valley\", \" \",\n",
    "        \"grid_demand_cost_night\", \" \", \n",
    "        \" | \",  \n",
    "        \"counterfactual_demand_cost_peak\", \" \",\n",
    "        \"counterfactual_demand_cost_valley\",\" \",\n",
    "        \"counterfactual_demand_cost_night\",\" \",        \n",
    "         \" | \",\n",
    "        \"total_savings\")\n",
    "for m in 1:12\n",
    "    bills_TMT[m] = monthly_bill(ebalance[m], mediumvoltage, print_output=true)\n",
    "end"
   ]
  },
  {
   "cell_type": "code",
   "execution_count": null,
   "metadata": {},
   "outputs": [],
   "source": [
    "fields = [\"grid_energy_cost_peak\", \n",
    "        \"grid_energy_cost_valley\",\n",
    "        \"grid_energy_cost_night\", \n",
    "        \"withdrawn_energy_cost\",      \n",
    "        \"grid_demand_cost_peak\",    \n",
    "        \"grid_demand_cost_valley\", \n",
    "        \"grid_demand_cost_night\",\n",
    "        \"VAT\", \"street_light\", \"firefighters\"]\n",
    "plot_bill(bills_TMT, fields);"
   ]
  },
  {
   "cell_type": "markdown",
   "metadata": {},
   "source": [
    "## TMT Case 3: Large PV System"
   ]
  },
  {
   "cell_type": "code",
   "execution_count": null,
   "metadata": {},
   "outputs": [],
   "source": [
    "PVTMT.capacity = 150\n",
    "ts=simulate(mediumvoltage, PVTMT, 3);"
   ]
  },
  {
   "cell_type": "code",
   "execution_count": null,
   "metadata": {},
   "outputs": [],
   "source": [
    "hours = 1:72\n",
    "fill_between(hours, ts[\"injection_grid_h\"], label = \"Net injection into the grid\", alpha = 0.8)\n",
    "fill_between(hours, ts[\"pv_curve\"], label = \"PV Curve\", alpha = 0.8, color=\"yellow\")\n",
    "fill_between(hours, ts[\"withdrawal_h\"],  label = \"Carryover withdrawal\")\n",
    "plot(hours, ts[\"demand_curve\"], label = \"Total Demand\", color = \"red\")\n",
    "legend(bbox_to_anchor=(1.05, 1), loc=2, borderaxespad=0.)\n",
    "xlabel(\"Hour\")\n",
    "ylabel(\"Power [kW]\")\n",
    "grid(\"on\")\n",
    "xticks([0,12,24,36,48,60,72]);"
   ]
  },
  {
   "cell_type": "code",
   "execution_count": null,
   "metadata": {},
   "outputs": [],
   "source": [
    "ebalance = annual_energy_balance(mediumvoltage, PVTMT, print_output=true);"
   ]
  },
  {
   "cell_type": "code",
   "execution_count": null,
   "metadata": {},
   "outputs": [],
   "source": [
    "bills_TMT= Dict()\n",
    "println(\"grid_energy_cost_peak\", \" \",    \n",
    "        \"grid_energy_cost_valley\", \" \",\n",
    "        \"grid_energy_cost_night\", \" \", \n",
    "        \" | \",\n",
    "        \"withdrawn_energy_cost\", \" \",       \n",
    "        \" | \",      \n",
    "        \"counterfactual_energy_cost_peak\", \" \",\n",
    "        \"counterfactual_energy_cost_valley\",\" \",\n",
    "        \"counterfactual_energy_cost_night\",\" \",        \n",
    "         \" | \",\n",
    "        \"grid_demand_cost_peak\", \" \",    \n",
    "        \"grid_demand_cost_valley\", \" \",\n",
    "        \"grid_demand_cost_night\", \" \", \n",
    "        \" | \",  \n",
    "        \"counterfactual_demand_cost_peak\", \" \",\n",
    "        \"counterfactual_demand_cost_valley\",\" \",\n",
    "        \"counterfactual_demand_cost_night\",\" \",        \n",
    "         \" | \",\n",
    "        \"savings\")\n",
    "for m in 1:12\n",
    "    bills_TMT[m] = monthly_bill(ebalance[m], mediumvoltage, print_output=true)\n",
    "end"
   ]
  },
  {
   "cell_type": "code",
   "execution_count": null,
   "metadata": {},
   "outputs": [],
   "source": [
    "fields = [\"grid_energy_cost_peak\", \n",
    "        \"grid_energy_cost_valley\",\n",
    "        \"grid_energy_cost_night\", \n",
    "        \"withdrawn_energy_cost\",      \n",
    "        \"grid_demand_cost_peak\",    \n",
    "        \"grid_demand_cost_valley\", \n",
    "        \"grid_demand_cost_night\",\n",
    "        \"VAT\", \"street_light\", \"firefighters\"]\n",
    "plot_bill(bills_TMT, fields);"
   ]
  }
 ],
 "metadata": {
  "@webio": {
   "lastCommId": "7a690da8820c4246864763ab421bc4fc",
   "lastKernelId": "2591d191-d84a-4f72-a4f1-d49555806396"
  },
  "kernelspec": {
   "display_name": "Julia 1.1.0",
   "language": "julia",
   "name": "julia-1.1"
  },
  "language_info": {
   "file_extension": ".jl",
   "mimetype": "application/julia",
   "name": "julia",
   "version": "1.1.0"
  }
 },
 "nbformat": 4,
 "nbformat_minor": 2
}
