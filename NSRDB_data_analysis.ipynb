{
 "cells": [
  {
   "cell_type": "code",
   "execution_count": 35,
   "metadata": {},
   "outputs": [],
   "source": [
    "include(\"functions/retrieve_nsrdb_data.jl\");\n",
    "using PyCall"
   ]
  },
  {
   "cell_type": "code",
   "execution_count": 2,
   "metadata": {},
   "outputs": [
    {
     "name": "stdout",
     "output_type": "stream",
     "text": [
      "      Year  Month  Day  Hour  ...  DNI  Wind Speed  Temperature  Solar Zenith Angle\n",
      "0     2010      1    1     0  ...    0         0.1           17              162.14\n",
      "1     2010      1    1     1  ...    0         0.1           16              150.52\n",
      "2     2010      1    1     2  ...    0         0.1           16              137.27\n",
      "3     2010      1    1     3  ...    0         0.2           16              123.57\n",
      "4     2010      1    1     4  ...    0         0.2           16              109.78\n",
      "5     2010      1    1     5  ...    0         0.2           16               96.04\n",
      "6     2010      1    1     6  ...  277         0.2           17               82.49\n",
      "7     2010      1    1     7  ...  637         0.2           18               69.32\n",
      "8     2010      1    1     8  ...  791         0.2           20               56.84\n",
      "9     2010      1    1     9  ...   47         0.2           21               45.65\n",
      "10    2010      1    1    10  ...  937         0.2           22               36.97\n",
      "11    2010      1    1    11  ...  945         0.2           22               32.86\n",
      "12    2010      1    1    12  ...  939         0.2           22               34.99\n",
      "13    2010      1    1    13  ...  903         0.2           22               42.41\n",
      "14    2010      1    1    14  ...  836         0.2           21               52.95\n",
      "15    2010      1    1    15  ...  101         0.2           20               65.10\n",
      "16    2010      1    1    16  ...  436         0.1           19               78.08\n",
      "17    2010      1    1    17  ...    0         0.1           18               91.53\n",
      "18    2010      1    1    18  ...    0         0.1           18              105.22\n",
      "19    2010      1    1    19  ...    0         0.1           17              119.02\n",
      "20    2010      1    1    20  ...    0         0.1           17              132.78\n",
      "21    2010      1    1    21  ...    0         0.1           17              146.26\n",
      "22    2010      1    1    22  ...    0         0.1           17              158.71\n",
      "23    2010      1    1    23  ...    0         0.1           16              166.66\n",
      "24    2010      1    2     0  ...    0         0.1           16              162.28\n",
      "25    2010      1    2     1  ...    0         0.2           16              150.65\n",
      "26    2010      1    2     2  ...    0         0.2           16              137.39\n",
      "27    2010      1    2     3  ...    0         0.1           16              123.69\n",
      "28    2010      1    2     4  ...    0         0.1           16              109.88\n",
      "29    2010      1    2     5  ...    0         0.1           16               96.13\n",
      "...    ...    ...  ...   ...  ...  ...         ...          ...                 ...\n",
      "8730  2010     12   30    18  ...    0         0.1           16              105.48\n",
      "8731  2010     12   30    19  ...    0         0.1           16              119.26\n",
      "8732  2010     12   30    20  ...    0         0.1           16              133.00\n",
      "8733  2010     12   30    21  ...    0         0.1           16              146.43\n",
      "8734  2010     12   30    22  ...    0         0.1           16              158.80\n",
      "8735  2010     12   30    23  ...    0         0.1           15              166.53\n",
      "8736  2010     12   31     0  ...    0         0.1           15              161.98\n",
      "8737  2010     12   31     1  ...    0         0.1           15              150.36\n",
      "8738  2010     12   31     2  ...    0         0.1           15              137.12\n",
      "8739  2010     12   31     3  ...    0         0.2           15              123.43\n",
      "8740  2010     12   31     4  ...    0         0.2           14              109.64\n",
      "8741  2010     12   31     5  ...    0         0.1           14               95.92\n",
      "8742  2010     12   31     6  ...  266         0.1           15               82.38\n",
      "8743  2010     12   31     7  ...  332         0.1           16               69.23\n",
      "8744  2010     12   31     8  ...   29         0.1           17               56.78\n",
      "8745  2010     12   31     9  ...  948         0.1           18               45.62\n",
      "8746  2010     12   31    10  ...  977         0.1           19               36.99\n",
      "8747  2010     12   31    11  ...  983         0.1           20               32.95\n",
      "8748  2010     12   31    12  ...   63         0.2           20               35.13\n",
      "8749  2010     12   31    13  ...  919         0.1           20               42.58\n",
      "8750  2010     12   31    14  ...  316         0.1           19               53.12\n",
      "8751  2010     12   31    15  ...  728         0.1           18               65.26\n",
      "8752  2010     12   31    16  ...  515         0.1           17               78.24\n",
      "8753  2010     12   31    17  ...    0         0.1           17               91.68\n",
      "8754  2010     12   31    18  ...    0         0.1           18              105.34\n",
      "8755  2010     12   31    19  ...    0         0.1           17              119.13\n",
      "8756  2010     12   31    20  ...    0         0.1           17              132.88\n",
      "8757  2010     12   31    21  ...    0         0.1           17              146.33\n",
      "8758  2010     12   31    22  ...    0         0.1           17              158.75\n",
      "8759  2010     12   31    23  ...    0         0.1           17              166.60\n",
      "\n",
      "[8760 rows x 11 columns]\n"
     ]
    }
   ],
   "source": [
    "# This function will, when provided (latitude, longitude, year), will provide the corresponding NSRDB data\n",
    "nsrdb_data_frame = get_nsrdb_raw_solar_data(9.817934, -84.070552, 2010);\n",
    "show(nsrdb_data_frame)"
   ]
  },
  {
   "cell_type": "code",
   "execution_count": 3,
   "metadata": {},
   "outputs": [
    {
     "data": {
      "text/plain": [
       "Index(['Year', 'Month', 'Day', 'Hour', 'Minute', 'GHI', 'DHI', 'DNI',\n",
       "       'Wind Speed', 'Temperature', 'Solar Zenith Angle'],\n",
       "      dtype='object')\n"
      ]
     },
     "execution_count": 3,
     "metadata": {},
     "output_type": "execute_result"
    }
   ],
   "source": [
    "# Print out the column names that the data actually follows:\n",
    "columns(nsrdb_data_frame)"
   ]
  },
  {
   "cell_type": "code",
   "execution_count": 4,
   "metadata": {},
   "outputs": [],
   "source": [
    "py\"\"\"\n",
    "import sys\n",
    "sys.path.insert(0, \"./functions\")\n",
    "\"\"\""
   ]
  },
  {
   "cell_type": "code",
   "execution_count": 5,
   "metadata": {},
   "outputs": [
    {
     "name": "stderr",
     "output_type": "stream",
     "text": [
      "┌ Warning: `getindex(o::PyObject, s::AbstractString)` is deprecated in favor of dot overloading (`getproperty`) so elements should now be accessed as e.g. `o.\"s\"` instead of `o[\"s\"]`.\n",
      "│   caller = top-level scope at In[5]:1\n",
      "└ @ Core In[5]:1\n"
     ]
    },
    {
     "data": {
      "text/plain": [
       "PyObject <function call_ssc_with_dataframe at 0x131e79f28>"
      ]
     },
     "execution_count": 5,
     "metadata": {},
     "output_type": "execute_result"
    }
   ],
   "source": [
    "call_ssc_with_dataframe = pyimport(\"nsrdb_python\")[\"call_ssc_with_dataframe\"]"
   ]
  },
  {
   "cell_type": "code",
   "execution_count": 6,
   "metadata": {},
   "outputs": [
    {
     "name": "stdout",
     "output_type": "stream",
     "text": [
      " 0.00 %  @ 0\n",
      " 0.67 %  @ 175\n",
      " 1.34 %  @ 350\n",
      " 2.00 %  @ 525\n",
      " 2.67 %  @ 700\n",
      " 3.33 %  @ 875\n",
      " 4.00 %  @ 1050\n",
      " 4.67 %  @ 1225\n",
      " 5.33 %  @ 1400\n",
      " 6.00 %  @ 1575\n",
      " 6.66 %  @ 1750\n",
      " 7.33 %  @ 1925\n",
      " 7.99 %  @ 2100\n",
      " 8.66 %  @ 2275\n",
      " 9.33 %  @ 2450\n",
      " 9.99 %  @ 2625\n",
      "10.66 %  @ 2800\n",
      "11.32 %  @ 2975\n",
      "11.99 %  @ 3150\n",
      "12.66 %  @ 3325\n",
      "13.32 %  @ 3500\n",
      "13.99 %  @ 3675\n",
      "14.65 %  @ 3850\n",
      "15.32 %  @ 4025\n",
      "15.99 %  @ 4200\n",
      "16.65 %  @ 4375\n",
      "17.32 %  @ 4550\n",
      "17.98 %  @ 4725\n",
      "18.65 %  @ 4900\n",
      "19.32 %  @ 5075\n",
      "19.98 %  @ 5250\n",
      "20.65 %  @ 5425\n",
      "21.31 %  @ 5600\n",
      "21.98 %  @ 5775\n",
      "22.64 %  @ 5950\n",
      "23.31 %  @ 6125\n",
      "23.98 %  @ 6300\n",
      "24.64 %  @ 6475\n",
      "25.31 %  @ 6650\n",
      "25.97 %  @ 6825\n",
      "26.64 %  @ 7000\n",
      "27.31 %  @ 7175\n",
      "27.97 %  @ 7350\n",
      "28.64 %  @ 7525\n",
      "29.30 %  @ 7700\n",
      "29.97 %  @ 7875\n",
      "30.64 %  @ 8050\n",
      "31.30 %  @ 8225\n",
      "31.97 %  @ 8400\n",
      "32.63 %  @ 8575\n",
      "33.30 %  @ 8750\n"
     ]
    }
   ],
   "source": [
    "# This adds a \"Generation\" column to the provided data frame\n",
    "call_ssc_with_dataframe(nsrdb_data_frame);"
   ]
  },
  {
   "cell_type": "code",
   "execution_count": 7,
   "metadata": {},
   "outputs": [
    {
     "name": "stdout",
     "output_type": "stream",
     "text": [
      "      Year  Month  Day  ...  Temperature  Solar Zenith Angle  Generation\n",
      "0     2010      1    1  ...           17              162.14    0.000000\n",
      "1     2010      1    1  ...           16              150.52    0.000000\n",
      "2     2010      1    1  ...           16              137.27    0.000000\n",
      "3     2010      1    1  ...           16              123.57    0.000000\n",
      "4     2010      1    1  ...           16              109.78    0.000000\n",
      "5     2010      1    1  ...           16               96.04    0.000000\n",
      "6     2010      1    1  ...           17               82.49    0.000000\n",
      "7     2010      1    1  ...           18               69.32    0.000000\n",
      "8     2010      1    1  ...           20               56.84    0.000000\n",
      "9     2010      1    1  ...           21               45.65    0.000000\n",
      "10    2010      1    1  ...           22               36.97    0.000000\n",
      "11    2010      1    1  ...           22               32.86    0.000000\n",
      "12    2010      1    1  ...           22               34.99    0.000000\n",
      "13    2010      1    1  ...           22               42.41    0.257346\n",
      "14    2010      1    1  ...           21               52.95    0.415067\n",
      "15    2010      1    1  ...           20               65.10    0.211232\n",
      "16    2010      1    1  ...           19               78.08    0.359518\n",
      "17    2010      1    1  ...           18               91.53    0.000000\n",
      "18    2010      1    1  ...           18              105.22    0.000000\n",
      "19    2010      1    1  ...           17              119.02    0.000000\n",
      "20    2010      1    1  ...           17              132.78    0.000000\n",
      "21    2010      1    1  ...           17              146.26    0.000000\n",
      "22    2010      1    1  ...           17              158.71    0.000000\n",
      "23    2010      1    1  ...           16              166.66    0.000000\n",
      "24    2010      1    2  ...           16              162.28    0.000000\n",
      "25    2010      1    2  ...           16              150.65    0.000000\n",
      "26    2010      1    2  ...           16              137.39    0.000000\n",
      "27    2010      1    2  ...           16              123.69    0.000000\n",
      "28    2010      1    2  ...           16              109.88    0.000000\n",
      "29    2010      1    2  ...           16               96.13    0.000000\n",
      "...    ...    ...  ...  ...          ...                 ...         ...\n",
      "8730  2010     12   30  ...           16              105.48    0.000000\n",
      "8731  2010     12   30  ...           16              119.26    0.000000\n",
      "8732  2010     12   30  ...           16              133.00    0.000000\n",
      "8733  2010     12   30  ...           16              146.43    0.000000\n",
      "8734  2010     12   30  ...           16              158.80    0.000000\n",
      "8735  2010     12   30  ...           15              166.53    0.000000\n",
      "8736  2010     12   31  ...           15              161.98    0.000000\n",
      "8737  2010     12   31  ...           15              150.36    0.000000\n",
      "8738  2010     12   31  ...           15              137.12    0.000000\n",
      "8739  2010     12   31  ...           15              123.43    0.000000\n",
      "8740  2010     12   31  ...           14              109.64    0.000000\n",
      "8741  2010     12   31  ...           14               95.92    0.000000\n",
      "8742  2010     12   31  ...           15               82.38    0.000000\n",
      "8743  2010     12   31  ...           16               69.23    0.000000\n",
      "8744  2010     12   31  ...           17               56.78    0.000000\n",
      "8745  2010     12   31  ...           18               45.62    0.000000\n",
      "8746  2010     12   31  ...           19               36.99    0.000000\n",
      "8747  2010     12   31  ...           20               32.95    0.000000\n",
      "8748  2010     12   31  ...           20               35.13    0.000000\n",
      "8749  2010     12   31  ...           20               42.58    0.256434\n",
      "8750  2010     12   31  ...           19               53.12    0.365311\n",
      "8751  2010     12   31  ...           18               65.26    0.471172\n",
      "8752  2010     12   31  ...           17               78.24    0.392861\n",
      "8753  2010     12   31  ...           17               91.68    0.000000\n",
      "8754  2010     12   31  ...           18              105.34    0.000000\n",
      "8755  2010     12   31  ...           17              119.13    0.000000\n",
      "8756  2010     12   31  ...           17              132.88    0.000000\n",
      "8757  2010     12   31  ...           17              146.33    0.000000\n",
      "8758  2010     12   31  ...           17              158.75    0.000000\n",
      "8759  2010     12   31  ...           17              166.60    0.000000\n",
      "\n",
      "[8760 rows x 12 columns]\n"
     ]
    }
   ],
   "source": [
    "show(nsrdb_data_frame)"
   ]
  },
  {
   "cell_type": "code",
   "execution_count": 8,
   "metadata": {},
   "outputs": [
    {
     "data": {
      "image/png": "[encoded data removed]",
      "text/plain": [
       "Figure(PyObject <Figure size 640x480 with 2 Axes>)"
      ]
     },
     "metadata": {},
     "output_type": "display_data"
    },
    {
     "data": {
      "text/plain": [
       "PyObject <matplotlib.legend.Legend object at 0x137645710>"
      ]
     },
     "execution_count": 8,
     "metadata": {},
     "output_type": "execute_result"
    }
   ],
   "source": [
    "plot_pysam_output(nsrdb_data_frame)"
   ]
  },
  {
   "cell_type": "code",
   "execution_count": 16,
   "metadata": {},
   "outputs": [
    {
     "ename": "ErrorException",
     "evalue": "type DataFrame has no field properties",
     "output_type": "error",
     "traceback": [
      "type DataFrame has no field properties",
      "",
      "Stacktrace:",
      " [1] getproperty(::DataFrame, ::Symbol) at /Users/arnavgautam/.julia/packages/Pandas/wBpaf/src/Pandas.jl:462",
      " [2] top-level scope at In[16]:2"
     ]
    }
   ],
   "source": [
    "typeof(nsrdb_data_frame)\n",
    "nsrdb_data_frame.properties"
   ]
  },
  {
   "cell_type": "code",
   "execution_count": 22,
   "metadata": {},
   "outputs": [
    {
     "data": {
      "text/plain": [
       "8760-element Array{Float64,1}:\n",
       " 0.0                \n",
       " 0.0                \n",
       " 0.0                \n",
       " 0.0                \n",
       " 0.0                \n",
       " 0.0                \n",
       " 0.0                \n",
       " 0.0                \n",
       " 0.0                \n",
       " 0.0                \n",
       " 0.0                \n",
       " 0.0                \n",
       " 0.0                \n",
       " ⋮                  \n",
       " 0.0                \n",
       " 0.2564340525091611 \n",
       " 0.36531054943177926\n",
       " 0.47117226544397417\n",
       " 0.3928608585396363 \n",
       " 0.0                \n",
       " 0.0                \n",
       " 0.0                \n",
       " 0.0                \n",
       " 0.0                \n",
       " 0.0                \n",
       " 0.0                "
      ]
     },
     "execution_count": 22,
     "metadata": {},
     "output_type": "execute_result"
    }
   ],
   "source": [
    "generation_array = values(nsrdb_data_frame[\"Generation\"])"
   ]
  },
  {
   "cell_type": "code",
   "execution_count": 28,
   "metadata": {},
   "outputs": [
    {
     "data": {
      "text/plain": [
       "8760×1 Array{Float64,2}:\n",
       " 0.0  \n",
       " 0.0  \n",
       " 0.0  \n",
       " 0.0  \n",
       " 0.0  \n",
       " 0.0  \n",
       " 0.095\n",
       " 0.28 \n",
       " 0.456\n",
       " 0.618\n",
       " 0.727\n",
       " 0.752\n",
       " 0.737\n",
       " ⋮    \n",
       " 0.746\n",
       " 0.676\n",
       " 0.553\n",
       " 0.345\n",
       " 0.13 \n",
       " 0.0  \n",
       " 0.0  \n",
       " 0.0  \n",
       " 0.0  \n",
       " 0.0  \n",
       " 0.0  \n",
       " 0.0  "
      ]
     },
     "execution_count": 28,
     "metadata": {},
     "output_type": "execute_result"
    }
   ],
   "source": [
    "get_nsrdb_sam_pv_output(false)"
   ]
  },
  {
   "cell_type": "code",
   "execution_count": 29,
   "metadata": {},
   "outputs": [
    {
     "name": "stderr",
     "output_type": "stream",
     "text": [
      "┌ Warning: `getindex(o::PyObject, s::AbstractString)` is deprecated in favor of dot overloading (`getproperty`) so elements should now be accessed as e.g. `o.\"s\"` instead of `o[\"s\"]`.\n",
      "│   caller = get_nsrdb_sam_pv_output(::Bool) at retrieve_nsrdb_data.jl:93\n",
      "└ @ Main /Users/arnavgautam/Documents/Research/Jose_Daniel_Lara/arnav_PVCR/functions/retrieve_nsrdb_data.jl:93\n"
     ]
    },
    {
     "name": "stdout",
     "output_type": "stream",
     "text": [
      " 0.00 %  @ 0\n",
      " 0.67 %  @ 175\n",
      " 1.34 %  @ 350\n",
      " 2.00 %  @ 525\n",
      " 2.67 %  @ 700\n",
      " 3.33 %  @ 875\n",
      " 4.00 %  @ 1050\n",
      " 4.67 %  @ 1225\n",
      " 5.33 %  @ 1400\n",
      " 6.00 %  @ 1575\n",
      " 6.66 %  @ 1750\n",
      " 7.33 %  @ 1925\n",
      " 7.99 %  @ 2100\n",
      " 8.66 %  @ 2275\n",
      " 9.33 %  @ 2450\n",
      " 9.99 %  @ 2625\n",
      "10.66 %  @ 2800\n",
      "11.32 %  @ 2975\n",
      "11.99 %  @ 3150\n",
      "12.66 %  @ 3325\n",
      "13.32 %  @ 3500\n",
      "13.99 %  @ 3675\n",
      "14.65 %  @ 3850\n",
      "15.32 %  @ 4025\n",
      "15.99 %  @ 4200\n",
      "16.65 %  @ 4375\n",
      "17.32 %  @ 4550\n",
      "17.98 %  @ 4725\n",
      "18.65 %  @ 4900\n",
      "19.32 %  @ 5075\n",
      "19.98 %  @ 5250\n",
      "20.65 %  @ 5425\n",
      "21.31 %  @ 5600\n",
      "21.98 %  @ 5775\n",
      "22.64 %  @ 5950\n",
      "23.31 %  @ 6125\n",
      "23.98 %  @ 6300\n",
      "24.64 %  @ 6475\n",
      "25.31 %  @ 6650\n",
      "25.97 %  @ 6825\n",
      "26.64 %  @ 7000\n",
      "27.31 %  @ 7175\n",
      "27.97 %  @ 7350\n",
      "28.64 %  @ 7525\n",
      "29.30 %  @ 7700\n",
      "29.97 %  @ 7875\n",
      "30.64 %  @ 8050\n",
      "31.30 %  @ 8225\n",
      "31.97 %  @ 8400\n",
      "32.63 %  @ 8575\n",
      "33.30 %  @ 8750\n"
     ]
    },
    {
     "data": {
      "text/plain": [
       "8760-element Array{Float64,1}:\n",
       " 0.0                \n",
       " 0.0                \n",
       " 0.0                \n",
       " 0.0                \n",
       " 0.0                \n",
       " 0.0                \n",
       " 0.0                \n",
       " 0.0                \n",
       " 0.0                \n",
       " 0.0                \n",
       " 0.0                \n",
       " 0.0                \n",
       " 0.0                \n",
       " ⋮                  \n",
       " 0.0                \n",
       " 0.2564340525091611 \n",
       " 0.36531054943177926\n",
       " 0.47117226544397417\n",
       " 0.3928608585396363 \n",
       " 0.0                \n",
       " 0.0                \n",
       " 0.0                \n",
       " 0.0                \n",
       " 0.0                \n",
       " 0.0                \n",
       " 0.0                "
      ]
     },
     "execution_count": 29,
     "metadata": {},
     "output_type": "execute_result"
    }
   ],
   "source": [
    "get_nsrdb_sam_pv_output(true)"
   ]
  },
  {
   "cell_type": "code",
   "execution_count": 34,
   "metadata": {},
   "outputs": [
    {
     "name": "stderr",
     "output_type": "stream",
     "text": [
      "┌ Warning: `getindex(o::PyObject, s::AbstractString)` is deprecated in favor of dot overloading (`getproperty`) so elements should now be accessed as e.g. `o.\"s\"` instead of `o[\"s\"]`.\n",
      "│   caller = #get_nsrdb_sam_pv_output#3(::Bool, ::Function) at retrieve_nsrdb_data.jl:94\n",
      "└ @ Main /Users/arnavgautam/Documents/Research/Jose_Daniel_Lara/arnav_PVCR/functions/retrieve_nsrdb_data.jl:94\n"
     ]
    },
    {
     "name": "stdout",
     "output_type": "stream",
     "text": [
      " 0.00 %  @ 0\n",
      " 0.67 %  @ 175\n",
      " 1.34 %  @ 350\n",
      " 2.00 %  @ 525\n",
      " 2.67 %  @ 700\n",
      " 3.33 %  @ 875\n",
      " 4.00 %  @ 1050\n",
      " 4.67 %  @ 1225\n",
      " 5.33 %  @ 1400\n",
      " 6.00 %  @ 1575\n",
      " 6.66 %  @ 1750\n",
      " 7.33 %  @ 1925\n",
      " 7.99 %  @ 2100\n",
      " 8.66 %  @ 2275\n",
      " 9.33 %  @ 2450\n",
      " 9.99 %  @ 2625\n",
      "10.66 %  @ 2800\n",
      "11.32 %  @ 2975\n",
      "11.99 %  @ 3150\n",
      "12.66 %  @ 3325\n",
      "13.32 %  @ 3500\n",
      "13.99 %  @ 3675\n",
      "14.65 %  @ 3850\n",
      "15.32 %  @ 4025\n",
      "15.99 %  @ 4200\n",
      "16.65 %  @ 4375\n",
      "17.32 %  @ 4550\n",
      "17.98 %  @ 4725\n",
      "18.65 %  @ 4900\n",
      "19.32 %  @ 5075\n",
      "19.98 %  @ 5250\n",
      "20.65 %  @ 5425\n",
      "21.31 %  @ 5600\n",
      "21.98 %  @ 5775\n",
      "22.64 %  @ 5950\n",
      "23.31 %  @ 6125\n",
      "23.98 %  @ 6300\n",
      "24.64 %  @ 6475\n",
      "25.31 %  @ 6650\n",
      "25.97 %  @ 6825\n",
      "26.64 %  @ 7000\n",
      "27.31 %  @ 7175\n",
      "27.97 %  @ 7350\n",
      "28.64 %  @ 7525\n",
      "29.30 %  @ 7700\n",
      "29.97 %  @ 7875\n",
      "30.64 %  @ 8050\n",
      "31.30 %  @ 8225\n",
      "31.97 %  @ 8400\n",
      "32.63 %  @ 8575\n",
      "33.30 %  @ 8750\n"
     ]
    },
    {
     "ename": "LoadError",
     "evalue": "UndefVarError: PVSystem not defined",
     "output_type": "error",
     "traceback": [
      "UndefVarError: PVSystem not defined",
      "",
      "Stacktrace:",
      " [1] top-level scope at none:0",
      " [2] include at ./boot.jl:326 [inlined]",
      " [3] include_relative(::Module, ::String) at ./loading.jl:1038",
      " [4] include(::Module, ::String) at ./sysimg.jl:29",
      " [5] include(::String) at ./client.jl:403",
      " [6] top-level scope at In[34]:1"
     ]
    }
   ],
   "source": [
    "include(\"data/pvsystem_data.jl\");"
   ]
  },
  {
   "cell_type": "code",
   "execution_count": null,
   "metadata": {},
   "outputs": [],
   "source": []
  }
 ],
 "metadata": {
  "kernelspec": {
   "display_name": "Julia 1.1.1",
   "language": "julia",
   "name": "julia-1.1"
  },
  "language_info": {
   "file_extension": ".jl",
   "mimetype": "application/julia",
   "name": "julia",
   "version": "1.1.1"
  }
 },
 "nbformat": 4,
 "nbformat_minor": 2
}
