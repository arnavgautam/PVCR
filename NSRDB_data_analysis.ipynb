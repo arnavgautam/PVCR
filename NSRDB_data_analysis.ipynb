{
 "cells": [
  {
   "cell_type": "code",
   "execution_count": 94,
   "metadata": {},
   "outputs": [],
   "source": [
    "# When I tried to run this process through pure Julia code, I would have to create a DataFrame of the data\n",
    "# by using HTTP, and then use CSV to read the data into a Julia dataframe.\n",
    "# But I found that CSV.jl refused to recognize the true structure of the csv file, which doesn't have the same\n",
    "# columns as previous versions of NSRDB had. They use the old structure but put new values in, which Julia can't\n",
    "# recognize but Pandas's read_csv can. So I gave in and am using Pandas via Pandas.jl\n",
    "\n",
    "# Ideally I find a way to do this in Julia, but I'm alright with the overhead of calling to Python,\n",
    "# because once we're there, Pandas itself is quite fast. So it takes the same amount of time to read 1 row vs all\n",
    "# And it returns correct values, which I couldn't figure out how to do simply with HTTP.jl + CSV.jl\n",
    "\n",
    "# using CSV\n",
    "# using HTTP\n",
    "using Pandas"
   ]
  },
  {
   "cell_type": "code",
   "execution_count": 95,
   "metadata": {},
   "outputs": [],
   "source": [
    "# Declare all variables as strings. Spaces must be replaced with '+', i.e., change 'John Smith' to 'John+Smith'.\n",
    "\n",
    "# Define the lat, long of the location\n",
    "lat, lon = 9.931592, -84.107174\n",
    "\n",
    "# Set the attributes to extract (e.g., dhi, ghi, etc.), separated by commas.\n",
    "attributes = \"ghi,dhi,dni,wind_speed,air_temperature,solar_zenith_angle\"\n",
    "\n",
    "# Choose year of data\n",
    "year = \"2017\"\n",
    "\n",
    "# Set leap year to true or false. True will return leap day data if present, false will not.\n",
    "leap_year = \"false\"\n",
    "\n",
    "# Set time interval in minutes, i.e., '30' is half hour intervals. Valid intervals are 30 & 60.\n",
    "interval = \"30\"\n",
    "\n",
    "# Specify Coordinated Universal Time (UTC), 'true' will use UTC, 'false' will use the local time zone of the data.\n",
    "# NOTE: In order to use the NSRDB data in SAM, you must specify UTC as 'false'. SAM requires the data to be in the\n",
    "# local time zone.\n",
    "utc = \"false\"\n",
    "\n",
    "# Your full name, use '+' instead of spaces.\n",
    "your_name = \"Arnav+Gautam\"\n",
    "\n",
    "# Your reason for using the NSRDB.\n",
    "reason_for_use = \"data+analysis\"\n",
    "\n",
    "# Your affiliation\n",
    "your_affiliation = \"no+affiliation\"\n",
    "\n",
    "# Your email address\n",
    "your_email = \"arnavgautam@berkeley.edu\"\n",
    "\n",
    "# Please join our mailing list so we can keep you up-to-date on new developments.\n",
    "mailing_list = \"false\";"
   ]
  },
  {
   "cell_type": "code",
   "execution_count": 96,
   "metadata": {},
   "outputs": [],
   "source": [
    "# You must have an NSRDB api key\n",
    "file = open(\"arnav-nrel-api-key.txt\")\n",
    "api_key = read(file, String)\n",
    "close(file)"
   ]
  },
  {
   "cell_type": "code",
   "execution_count": 97,
   "metadata": {},
   "outputs": [],
   "source": [
    "# Declare url string\n",
    "url = \"http://developer.nrel.gov/api/solar/nsrdb_psm3_download.csv?wkt=POINT($(lon)%20$(lat))&names=$(year)&leap_day=$(leap_year)&interval=$(interval)&utc=$(utc)&full_name=$(your_name)&email=$(your_email)&affiliation=$(your_affiliation)&mailing_list=$(mailing_list)&reason=$(reason_for_use)&api_key=$(api_key)&attributes=$(attributes)\";"
   ]
  },
  {
   "cell_type": "code",
   "execution_count": 99,
   "metadata": {},
   "outputs": [
    {
     "name": "stdout",
     "output_type": "stream",
     "text": [
      "warning: only found 11 / 46 columns on data row: 2. Filling remaining columns with `missing`\n",
      "2×46 DataFrames.DataFrame\n",
      "│ Row │ Source │ Location ID │ City   │ State  │ Country │ Latitude │\n",
      "│     │ \u001b[90mString\u001b[39m │ \u001b[90mString\u001b[39m      │ \u001b[90mString\u001b[39m │ \u001b[90mString\u001b[39m │ \u001b[90mString\u001b[39m  │ \u001b[90mString\u001b[39m   │\n",
      "├─────┼────────┼─────────────┼────────┼────────┼─────────┼──────────┤\n",
      "│ 1   │ NSRDB  │ 693763      │ -      │ -      │ -       │ 33.21    │\n",
      "│ 2   │ Year   │ Month       │ Day    │ Hour   │ Minute  │ GHI      │\n",
      "\n",
      "│ Row │ Longitude │ Time Zone │ Elevation  │ Local Time Zone │\n",
      "│     │ \u001b[90mString\u001b[39m    │ \u001b[90mString\u001b[39m    │ \u001b[90mString\u001b[39m     │ \u001b[90mString\u001b[39m          │\n",
      "├─────┼───────────┼───────────┼────────────┼─────────────────┤\n",
      "│ 1   │ -97.14    │ -6        │ 203        │ -6              │\n",
      "│ 2   │ DHI       │ DNI       │ Wind Speed │ Temperature     │\n",
      "\n",
      "│ Row │ Clearsky DHI Units │ Clearsky DNI Units │ Clearsky GHI Units │\n",
      "│     │ \u001b[90mString\u001b[39m             │ \u001b[90mString⍰\u001b[39m            │ \u001b[90mString⍰\u001b[39m            │\n",
      "├─────┼────────────────────┼────────────────────┼────────────────────┤\n",
      "│ 1   │ w/m2               │ w/m2               │ w/m2               │\n",
      "│ 2   │ Solar Zenith Angle │ \u001b[90mmissing\u001b[39m            │ \u001b[90mmissing\u001b[39m            │\n",
      "\n",
      "│ Row │ Dew Point Units │ DHI Units │ DNI Units │ GHI Units │\n",
      "│     │ \u001b[90mString⍰\u001b[39m         │ \u001b[90mString⍰\u001b[39m   │ \u001b[90mString⍰\u001b[39m   │ \u001b[90mString⍰\u001b[39m   │\n",
      "├─────┼─────────────────┼───────────┼───────────┼───────────┤\n",
      "│ 1   │ c               │ w/m2      │ w/m2      │ w/m2      │\n",
      "│ 2   │ \u001b[90mmissing\u001b[39m         │ \u001b[90mmissing\u001b[39m   │ \u001b[90mmissing\u001b[39m   │ \u001b[90mmissing\u001b[39m   │\n",
      "\n",
      "│ Row │ Solar Zenith Angle Units │ Temperature Units │ Pressure Units │\n",
      "│     │ \u001b[90mUnion{Missing, String}\u001b[39m   │ \u001b[90mString⍰\u001b[39m           │ \u001b[90mString⍰\u001b[39m        │\n",
      "├─────┼──────────────────────────┼───────────────────┼────────────────┤\n",
      "│ 1   │ Degree                   │ c                 │ mbar           │\n",
      "│ 2   │ \u001b[90mmissing\u001b[39m                  │ \u001b[90mmissing\u001b[39m           │ \u001b[90mmissing\u001b[39m        │\n",
      "\n",
      "│ Row │ Relative Humidity Units │ Precipitable Water Units │\n",
      "│     │ \u001b[90mUnion{Missing, String}\u001b[39m  │ \u001b[90mUnion{Missing, String}\u001b[39m   │\n",
      "├─────┼─────────────────────────┼──────────────────────────┤\n",
      "│ 1   │ %                       │ cm                       │\n",
      "│ 2   │ \u001b[90mmissing\u001b[39m                 │ \u001b[90mmissing\u001b[39m                  │\n",
      "\n",
      "│ Row │ Wind Direction Units │ Wind Speed │ Cloud Type -15 │ Cloud Type 0 │\n",
      "│     │ \u001b[90mString⍰\u001b[39m              │ \u001b[90mString⍰\u001b[39m    │ \u001b[90mString⍰\u001b[39m        │ \u001b[90mString⍰\u001b[39m      │\n",
      "├─────┼──────────────────────┼────────────┼────────────────┼──────────────┤\n",
      "│ 1   │ Degrees              │ m/s        │ N/A            │ Clear        │\n",
      "│ 2   │ \u001b[90mmissing\u001b[39m              │ \u001b[90mmissing\u001b[39m    │ \u001b[90mmissing\u001b[39m        │ \u001b[90mmissing\u001b[39m      │\n",
      "\n",
      "│ Row │ Cloud Type 1   │ Cloud Type 2 │ Cloud Type 3 │ Cloud Type 4       │\n",
      "│     │ \u001b[90mString⍰\u001b[39m        │ \u001b[90mString⍰\u001b[39m      │ \u001b[90mString⍰\u001b[39m      │ \u001b[90mString⍰\u001b[39m            │\n",
      "├─────┼────────────────┼──────────────┼──────────────┼────────────────────┤\n",
      "│ 1   │ Probably Clear │ Fog          │ Water        │ Super-Cooled Water │\n",
      "│ 2   │ \u001b[90mmissing\u001b[39m        │ \u001b[90mmissing\u001b[39m      │ \u001b[90mmissing\u001b[39m      │ \u001b[90mmissing\u001b[39m            │\n",
      "\n",
      "│ Row │ Cloud Type 5 │ Cloud Type 6 │ Cloud Type 7 │ Cloud Type 8 │\n",
      "│     │ \u001b[90mString⍰\u001b[39m      │ \u001b[90mString⍰\u001b[39m      │ \u001b[90mString⍰\u001b[39m      │ \u001b[90mString⍰\u001b[39m      │\n",
      "├─────┼──────────────┼──────────────┼──────────────┼──────────────┤\n",
      "│ 1   │ Mixed        │ Opaque Ice   │ Cirrus       │ Overlapping  │\n",
      "│ 2   │ \u001b[90mmissing\u001b[39m      │ \u001b[90mmissing\u001b[39m      │ \u001b[90mmissing\u001b[39m      │ \u001b[90mmissing\u001b[39m      │\n",
      "\n",
      "│ Row │ Cloud Type 9 │ Cloud Type 10 │ Cloud Type 11 │ Cloud Type 12 │\n",
      "│     │ \u001b[90mString⍰\u001b[39m      │ \u001b[90mString⍰\u001b[39m       │ \u001b[90mString⍰\u001b[39m       │ \u001b[90mString⍰\u001b[39m       │\n",
      "├─────┼──────────────┼───────────────┼───────────────┼───────────────┤\n",
      "│ 1   │ Overshooting │ Unknown       │ Dust          │ Smoke         │\n",
      "│ 2   │ \u001b[90mmissing\u001b[39m      │ \u001b[90mmissing\u001b[39m       │ \u001b[90mmissing\u001b[39m       │ \u001b[90mmissing\u001b[39m       │\n",
      "\n",
      "│ Row │ Fill Flag 0 │ Fill Flag 1   │ Fill Flag 2    │ Fill Flag 3      │\n",
      "│     │ \u001b[90mString⍰\u001b[39m     │ \u001b[90mString⍰\u001b[39m       │ \u001b[90mString⍰\u001b[39m        │ \u001b[90mString⍰\u001b[39m          │\n",
      "├─────┼─────────────┼───────────────┼────────────────┼──────────────────┤\n",
      "│ 1   │ N/A         │ Missing Image │ Low Irradiance │ Exceeds Clearsky │\n",
      "│ 2   │ \u001b[90mmissing\u001b[39m     │ \u001b[90mmissing\u001b[39m       │ \u001b[90mmissing\u001b[39m        │ \u001b[90mmissing\u001b[39m          │\n",
      "\n",
      "│ Row │ Fill Flag 4              │ Fill Flag 5        │ Surface Albedo Units │\n",
      "│     │ \u001b[90mUnion{Missing, String}\u001b[39m   │ \u001b[90mString⍰\u001b[39m            │ \u001b[90mString⍰\u001b[39m              │\n",
      "├─────┼──────────────────────────┼────────────────────┼──────────────────────┤\n",
      "│ 1   │ Missing CLoud Properties │ Rayleigh Violation │ N/A                  │\n",
      "│ 2   │ \u001b[90mmissing\u001b[39m                  │ \u001b[90mmissing\u001b[39m            │ \u001b[90mmissing\u001b[39m              │\n",
      "\n",
      "│ Row │ Version │\n",
      "│     │ \u001b[90mString⍰\u001b[39m │\n",
      "├─────┼─────────┤\n",
      "│ 1   │ v3.0.1  │\n",
      "│ 2   │ \u001b[90mmissing\u001b[39m │"
     ]
    }
   ],
   "source": [
    "# The first two rows are not data values\n",
    "# The column names and the \"first row\" are metadata identifiers and values, respectively\n",
    "# The \"second row\" is what we'd consider the \"column names\" for the actual data, which is row 3 and beyond\n",
    "# Note that there are 46 metadata \"columns\", but only 11 data \"columns\". This trips up CSV.jl when it reads\n",
    "\n",
    "# Pure Julia implemetation (output displayed before)\n",
    "# res = HTTP.get(url);\n",
    "# info = CSV.read(res.body; limit=2)\n",
    "# show(info, allcols=true)\n",
    "\n",
    "# Alternate Implementation with Pandas\n",
    "# info = read_csv(url, nrows=2)\n",
    "# show(info)"
   ]
  },
  {
   "cell_type": "code",
   "execution_count": 93,
   "metadata": {},
   "outputs": [
    {
     "name": "stdout",
     "output_type": "stream",
     "text": [
      "       Year  Month  Day  Hour  ...  DNI  Wind Speed  Temperature  Solar Zenith Angle\n",
      "0      2010      1    1     0  ...    0         2.9           -2              167.60\n",
      "1      2010      1    1     0  ...    0         2.7           -2              169.78\n",
      "2      2010      1    1     1  ...    0         2.5           -3              168.08\n",
      "3      2010      1    1     1  ...    0         2.4           -3              163.67\n",
      "4      2010      1    1     2  ...    0         2.4           -4              158.14\n",
      "...     ...    ...  ...   ...  ...  ...         ...          ...                 ...\n",
      "17515  2010     12   31    21  ...    0         3.9            0              138.93\n",
      "17516  2010     12   31    22  ...    0         3.8           -1              145.18\n",
      "17517  2010     12   31    22  ...    0         3.6           -1              151.36\n",
      "17518  2010     12   31    23  ...    0         3.4           -2              157.36\n",
      "17519  2010     12   31    23  ...    0         3.1           -2              162.97\n",
      "\n",
      "[17520 rows x 11 columns]\n"
     ]
    }
   ],
   "source": [
    "# Read the actual data, \"row\" 3 and below\n",
    "\n",
    "# Incorrect Julia implementation (tries to read all 46 columns)\n",
    "# nsrdb_data_frame = CSV.read(res.body; skipto=4, limit=2);\n",
    "# show(nsrdb_data_frame, allcols=true)\n",
    "\n",
    "# Correct Python implementation (correctly only includes 11 columns)\n",
    "nsrdb_data_frame = read_csv(url, skiprows=2);\n",
    "show(nsrdb_data_frame)"
   ]
  },
  {
   "cell_type": "code",
   "execution_count": 91,
   "metadata": {},
   "outputs": [
    {
     "data": {
      "text/plain": [
       "Index(['Year', 'Month', 'Day', 'Hour', 'Minute', 'GHI', 'DHI', 'DNI',\n",
       "       'Wind Speed', 'Temperature', 'Solar Zenith Angle'],\n",
       "      dtype='object')\n"
      ]
     },
     "execution_count": 91,
     "metadata": {},
     "output_type": "execute_result"
    }
   ],
   "source": [
    "# Print out the column names that the data actually follows:\n",
    "columns(nsrdb_data_frame)"
   ]
  },
  {
   "cell_type": "code",
   "execution_count": null,
   "metadata": {},
   "outputs": [],
   "source": []
  }
 ],
 "metadata": {
  "kernelspec": {
   "display_name": "Julia 1.1.1",
   "language": "julia",
   "name": "julia-1.1"
  },
  "language_info": {
   "file_extension": ".jl",
   "mimetype": "application/julia",
   "name": "julia",
   "version": "1.1.1"
  }
 },
 "nbformat": 4,
 "nbformat_minor": 2
}
