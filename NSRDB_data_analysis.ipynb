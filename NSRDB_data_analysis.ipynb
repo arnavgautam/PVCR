{
 "cells": [
  {
   "cell_type": "code",
   "execution_count": 10,
   "metadata": {},
   "outputs": [],
   "source": [
    "include(\"functions/retrieve_nsrdb_data.jl\");"
   ]
  },
  {
   "cell_type": "code",
   "execution_count": 11,
   "metadata": {},
   "outputs": [
    {
     "name": "stdout",
     "output_type": "stream",
     "text": [
      "       Year  Month  Day  Hour  ...  DNI  Wind Speed  Temperature  Solar Zenith Angle\n",
      "0      2010      1    1     0  ...    0         2.9           -2              167.60\n",
      "1      2010      1    1     0  ...    0         2.7           -2              169.78\n",
      "2      2010      1    1     1  ...    0         2.5           -3              168.08\n",
      "3      2010      1    1     1  ...    0         2.4           -3              163.67\n",
      "4      2010      1    1     2  ...    0         2.4           -4              158.14\n",
      "...     ...    ...  ...   ...  ...  ...         ...          ...                 ...\n",
      "17515  2010     12   31    21  ...    0         3.9            0              138.93\n",
      "17516  2010     12   31    22  ...    0         3.8           -1              145.18\n",
      "17517  2010     12   31    22  ...    0         3.6           -1              151.36\n",
      "17518  2010     12   31    23  ...    0         3.4           -2              157.36\n",
      "17519  2010     12   31    23  ...    0         3.1           -2              162.97\n",
      "\n",
      "[17520 rows x 11 columns]\n"
     ]
    }
   ],
   "source": [
    "# This function will, when provided (latitude, longitude, year), will provide the corresponding NSRDB data\n",
    "nsrdb_data_frame = get_nsrdb_raw_solar_data(33.2164, -97.1292, 2010);\n",
    "show(nsrdb_data_frame)"
   ]
  },
  {
   "cell_type": "code",
   "execution_count": 12,
   "metadata": {},
   "outputs": [
    {
     "data": {
      "text/plain": [
       "Index(['Year', 'Month', 'Day', 'Hour', 'Minute', 'GHI', 'DHI', 'DNI',\n",
       "       'Wind Speed', 'Temperature', 'Solar Zenith Angle'],\n",
       "      dtype='object')\n"
      ]
     },
     "execution_count": 12,
     "metadata": {},
     "output_type": "execute_result"
    }
   ],
   "source": [
    "# Print out the column names that the data actually follows:\n",
    "columns(nsrdb_data_frame)"
   ]
  },
  {
   "cell_type": "code",
   "execution_count": null,
   "metadata": {},
   "outputs": [],
   "source": []
  }
 ],
 "metadata": {
  "kernelspec": {
   "display_name": "Julia 1.1.1",
   "language": "julia",
   "name": "julia-1.1"
  },
  "language_info": {
   "file_extension": ".jl",
   "mimetype": "application/julia",
   "name": "julia",
   "version": "1.1.1"
  }
 },
 "nbformat": 4,
 "nbformat_minor": 2
}
