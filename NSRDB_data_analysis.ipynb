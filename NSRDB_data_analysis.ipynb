{
 "cells": [
  {
   "cell_type": "code",
   "execution_count": 47,
   "metadata": {},
   "outputs": [],
   "source": [
    "include(\"functions/retrieve_nsrdb_data.jl\");\n",
    "# using PyCall"
   ]
  },
  {
   "cell_type": "code",
   "execution_count": 48,
   "metadata": {},
   "outputs": [
    {
     "name": "stdout",
     "output_type": "stream",
     "text": [
      "       Year  Month  Day  Hour  ...  DNI  Wind Speed  Temperature  Solar Zenith Angle\n",
      "0      2010      1    1     0  ...    0         2.9           -2              167.60\n",
      "1      2010      1    1     0  ...    0         2.7           -2              169.78\n",
      "2      2010      1    1     1  ...    0         2.5           -3              168.08\n",
      "3      2010      1    1     1  ...    0         2.4           -3              163.67\n",
      "4      2010      1    1     2  ...    0         2.4           -4              158.14\n",
      "5      2010      1    1     2  ...    0         2.3           -4              152.17\n",
      "6      2010      1    1     3  ...    0         2.3           -4              146.01\n",
      "7      2010      1    1     3  ...    0         2.2           -4              139.76\n",
      "8      2010      1    1     4  ...    0         2.2           -4              133.49\n",
      "9      2010      1    1     4  ...    0         2.1           -4              127.23\n",
      "10     2010      1    1     5  ...    0         2.0           -4              121.00\n",
      "11     2010      1    1     5  ...    0         1.8           -4              114.83\n",
      "12     2010      1    1     6  ...    0         1.7           -4              108.75\n",
      "13     2010      1    1     6  ...    0         1.5           -4              102.76\n",
      "14     2010      1    1     7  ...    0         1.4           -4               96.91\n",
      "15     2010      1    1     7  ...    0         1.7           -2               91.22\n",
      "16     2010      1    1     8  ...  421         2.0           -1               85.73\n",
      "17     2010      1    1     8  ...  630         1.8            0               80.50\n",
      "18     2010      1    1     9  ...  751         1.6            0               75.56\n",
      "19     2010      1    1     9  ...  826         1.2            1               70.99\n",
      "20     2010      1    1    10  ...  878         0.8            3               66.86\n",
      "21     2010      1    1    10  ...  913         0.5            4               63.27\n",
      "22     2010      1    1    11  ...  937         0.2            5               60.32\n",
      "23     2010      1    1    11  ...  952         0.6            6               58.10\n",
      "24     2010      1    1    12  ...  956         1.0            8               56.69\n",
      "25     2010      1    1    12  ...  958         1.1            8               56.17\n",
      "26     2010      1    1    13  ...  954         1.2            9               56.55\n",
      "27     2010      1    1    13  ...  944         1.2            9               57.83\n",
      "28     2010      1    1    14  ...  927         1.2            9               59.93\n",
      "29     2010      1    1    14  ...  903         1.1            9               62.78\n",
      "...     ...    ...  ...   ...  ...  ...         ...          ...                 ...\n",
      "17490  2010     12   31     9  ...  737         4.5           11               75.53\n",
      "17491  2010     12   31     9  ...  817         5.1           11               70.98\n",
      "17492  2010     12   31    10  ...  876         5.8           12               66.87\n",
      "17493  2010     12   31    10  ...  911         5.8           12               63.30\n",
      "17494  2010     12   31    11  ...  938         5.9           13               60.36\n",
      "17495  2010     12   31    11  ...  952         5.8           13               58.16\n",
      "17496  2010     12   31    12  ...  958         5.8           13               56.77\n",
      "17497  2010     12   31    12  ...  959         5.6           13               56.27\n",
      "17498  2010     12   31    13  ...  956         5.5           13               56.67\n",
      "17499  2010     12   31    13  ...  946         5.3           12               57.96\n",
      "17500  2010     12   31    14  ...  930         5.2           12               60.07\n",
      "17501  2010     12   31    14  ...  641         5.0           12               62.93\n",
      "17502  2010     12   31    15  ...  590         4.8           12               66.43\n",
      "17503  2010     12   31    15  ...  622         4.3           11               70.49\n",
      "17504  2010     12   31    16  ...  579         3.9           10               75.00\n",
      "17505  2010     12   31    16  ...  446         3.0            8               79.89\n",
      "17506  2010     12   31    17  ...  299         2.3            7               85.08\n",
      "17507  2010     12   31    17  ...    0         2.3            7               90.53\n",
      "17508  2010     12   31    18  ...    0         5.1            1               96.17\n",
      "17509  2010     12   31    18  ...    0         5.0            1              101.99\n",
      "17510  2010     12   31    19  ...    0         4.9            1              107.96\n",
      "17511  2010     12   31    19  ...    0         4.8            0              114.03\n",
      "17512  2010     12   31    20  ...    0         4.8            0              120.19\n",
      "17513  2010     12   31    20  ...    0         4.4            0              126.41\n",
      "17514  2010     12   31    21  ...    0         4.1            0              132.66\n",
      "17515  2010     12   31    21  ...    0         3.9            0              138.93\n",
      "17516  2010     12   31    22  ...    0         3.8           -1              145.18\n",
      "17517  2010     12   31    22  ...    0         3.6           -1              151.36\n",
      "17518  2010     12   31    23  ...    0         3.4           -2              157.36\n",
      "17519  2010     12   31    23  ...    0         3.1           -2              162.97\n",
      "\n",
      "[17520 rows x 11 columns]\n"
     ]
    }
   ],
   "source": [
    "# This function will, when provided (latitude, longitude, year), will provide the corresponding NSRDB data\n",
    "nsrdb_data_frame = get_nsrdb_raw_solar_data(33.2164, -97.1292, 2010);\n",
    "show(nsrdb_data_frame)"
   ]
  },
  {
   "cell_type": "code",
   "execution_count": 49,
   "metadata": {},
   "outputs": [
    {
     "data": {
      "text/plain": [
       "Index(['Year', 'Month', 'Day', 'Hour', 'Minute', 'GHI', 'DHI', 'DNI',\n",
       "       'Wind Speed', 'Temperature', 'Solar Zenith Angle'],\n",
       "      dtype='object')\n"
      ]
     },
     "execution_count": 49,
     "metadata": {},
     "output_type": "execute_result"
    }
   ],
   "source": [
    "# Print out the column names that the data actually follows:\n",
    "columns(nsrdb_data_frame)"
   ]
  },
  {
   "cell_type": "code",
   "execution_count": 52,
   "metadata": {},
   "outputs": [
    {
     "name": "stdout",
     "output_type": "stream",
     "text": [
      "[\"__call__\", \"__class__\", \"__delattr__\", \"__dir__\", \"__doc__\", \"__eq__\", \"__format__\", \"__ge__\", \"__getattribute__\", \"__gt__\", \"__hash__\", \"__init__\", \"__init_subclass__\", \"__iter__\", \"__le__\", \"__lt__\", \"__ne__\", \"__new__\", \"__reduce__\", \"__reduce_ex__\", \"__repr__\", \"__setattr__\", \"__sizeof__\", \"__str__\", \"__subclasshook__\", \"jl_value\"]\n",
      "Symbol[:Base, :Core, :Main, :PVWatts, :get_nsrdb_raw_solar_data, :nsrdb_data_frame, :predict_solar_output_at_location, :pypvwatts, :run_solar_data_through_sam_ssc, :ssc]\n",
      "| name     |      size | summary |\n",
      "|:-------- | ---------:|:------- |\n",
      "| __anon__ | 9.469 KiB | Module  |\n",
      "\n"
     ]
    }
   ],
   "source": [
    "# @pyimport site\n",
    "# site.addsitedir(\"/usr/local/lib/python3.7/site-packages\")\n",
    "@pyimport ssc;\n",
    "\n",
    "# function run_solar_data_through_sam_ssc(lat,lon,timezone,elevation,raw_data_df)\n",
    "function run_solar_data_through_sam_ssc(lat=9.817934,lon=-84.070552)\n",
    "#     ssc = sscapi[:PySSC]()\n",
    "    \n",
    "    # Figure out what the ssc module has\n",
    "    println(pybuiltin(:dir)(ssc))\n",
    "#     println(content)\n",
    "#     println(ssc(:jl_value))\n",
    "    \n",
    "    println(names(Main))\n",
    "#     println(names(ssc))\n",
    "    println(varinfo(ssc))\n",
    "    \n",
    "    # Resource inputs for SAM model:\n",
    "    \n",
    "#     wfd = ssc[:data_create]()\n",
    "#     ssc.data_set_number(wfd, \"lat\", lat)\n",
    "#     ssc.data_set_number(wfd, \"lon\", lon)\n",
    "#     ssc.data_set_number(wfd, \"tz\", timezone)\n",
    "#     ssc.data_set_number(wfd, \"elev\", elevation)\n",
    "#     ssc.data_set_array(wfd, \"year\", df.index.year)\n",
    "#     ssc.data_set_array(wfd, \"month\", df.index.month)\n",
    "#     ssc.data_set_array(wfd, \"day\", df.index.day)\n",
    "#     ssc.data_set_array(wfd, \"hour\", df.index.hour)\n",
    "#     ssc.data_set_array(wfd, \"minute\", df.index.minute)\n",
    "#     ssc.data_set_array(wfd, \"dn\", df[\"DNI\"])\n",
    "#     ssc.data_set_array(wfd, \"df\", df[\"DHI\"])\n",
    "#     ssc.data_set_array(wfd, \"wspd\", df[\"Wind Speed\"])\n",
    "#     ssc.data_set_array(wfd, \"tdry\", df[\"Temperature\"])\n",
    "    \n",
    "    \n",
    "end\n",
    "run_solar_data_through_sam_ssc()"
   ]
  },
  {
   "cell_type": "code",
   "execution_count": 53,
   "metadata": {},
   "outputs": [
    {
     "name": "stdout",
     "output_type": "stream",
     "text": [
      "6284.14013671875\n"
     ]
    }
   ],
   "source": [
    "predict_solar_output_at_location()"
   ]
  },
  {
   "cell_type": "code",
   "execution_count": null,
   "metadata": {},
   "outputs": [],
   "source": []
  }
 ],
 "metadata": {
  "kernelspec": {
   "display_name": "Julia 1.1.1",
   "language": "julia",
   "name": "julia-1.1"
  },
  "language_info": {
   "file_extension": ".jl",
   "mimetype": "application/julia",
   "name": "julia",
   "version": "1.1.1"
  }
 },
 "nbformat": 4,
 "nbformat_minor": 2
}
