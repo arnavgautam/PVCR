{
 "cells": [
  {
   "cell_type": "code",
   "execution_count": 4,
   "metadata": {},
   "outputs": [],
   "source": [
    "using ArchGDAL"
   ]
  },
  {
   "cell_type": "code",
   "execution_count": 114,
   "metadata": {},
   "outputs": [
    {
     "name": "stdout",
     "output_type": "stream",
     "text": [
      "[GA_ReadOnly] Band 1 (Gray): 8640 x 4320 (Float32)\n",
      "    blocksize: 8640×1, nodata: -3.4028230607370965e38, units: 1.0px + 0.0\n",
      "    overviews: "
     ]
    },
    {
     "data": {
      "text/plain": [
       "83×78 Array{Float32,2}:\n",
       "  -3.40282e38  -3.40282e38  -3.40282e38  …  -3.40282e38  -3.40282e38\n",
       "  42.0993      -3.40282e38  -3.40282e38     -3.40282e38  -3.40282e38\n",
       "  42.0993      42.0993      -3.40282e38     -3.40282e38  -3.40282e38\n",
       "  42.0993      42.0993      42.0993         -3.40282e38  -3.40282e38\n",
       "  42.0993      42.0993      42.0993         -3.40282e38  -3.40282e38\n",
       "  55.0016      42.0993      42.0993      …  -3.40282e38  -3.40282e38\n",
       " 144.736       49.1092      43.5223         -3.40282e38  -3.40282e38\n",
       "  73.7236      48.3599      32.9325         -3.40282e38  -3.40282e38\n",
       "  49.7691      30.1995      26.203          -3.40282e38  -3.40282e38\n",
       "  51.963       31.786       22.7825         -3.40282e38  -3.40282e38\n",
       "  53.1764      50.067       11.4859      …  -3.40282e38  -3.40282e38\n",
       "   0.0         53.1764      28.0372         -3.40282e38  -3.40282e38\n",
       "   0.0         53.1764      44.3192         -3.40282e38  -3.40282e38\n",
       "   ⋮                                     ⋱                          \n",
       "  -3.40282e38  -3.40282e38  -3.40282e38     -3.40282e38  -3.40282e38\n",
       "  -3.40282e38  -3.40282e38  -3.40282e38     -3.40282e38  -3.40282e38\n",
       "  -3.40282e38  -3.40282e38  -3.40282e38     19.8091      20.4559    \n",
       "  -3.40282e38  -3.40282e38  -3.40282e38     20.7043      20.7043    \n",
       "  -3.40282e38  -3.40282e38  -3.40282e38  …  -3.40282e38  -3.40282e38\n",
       "  -3.40282e38  -3.40282e38  -3.40282e38     -3.40282e38  -3.40282e38\n",
       "  -3.40282e38  -3.40282e38  -3.40282e38     -3.40282e38  -3.40282e38\n",
       "  -3.40282e38  -3.40282e38  -3.40282e38     -3.40282e38  -3.40282e38\n",
       "  -3.40282e38  -3.40282e38  -3.40282e38     -3.40282e38  -3.40282e38\n",
       "  -3.40282e38  -3.40282e38  -3.40282e38  …  -3.40282e38  -3.40282e38\n",
       "  -3.40282e38  -3.40282e38  -3.40282e38     -3.40282e38  -3.40282e38\n",
       "  -3.40282e38  -3.40282e38  -3.40282e38     -3.40282e38  -3.40282e38"
      ]
     },
     "execution_count": 114,
     "metadata": {},
     "output_type": "execute_result"
    }
   ],
   "source": [
    "ArchGDAL.registerdrivers() do\n",
    "    ArchGDAL.read(\"data/gpw-v4-population-density-rev11_2020_2pt5_min_tif/gpw_v4_population_density_rev11_2020_2pt5_min.tif\") do dataset\n",
    "        # Get the band of data corresponding to population density per ~5km square of the Earth's surface\n",
    "        band = ArchGDAL.getband(dataset, 1)\n",
    "        print(band)\n",
    "        min_lat = 8.040682\n",
    "        max_lat = 11.2195684\n",
    "        min_lon = -85.956896\n",
    "        max_lon = -82.5060208\n",
    "        band_width = ArchGDAL.width(band)\n",
    "        band_height = ArchGDAL.height(band)        \n",
    "        max_lat_ind = ceil((90 - min_lat) * band_height / 180)\n",
    "        min_lat_ind = min(ceil((90 - max_lat) * band_height / 180), max_lat_ind - 1)\n",
    "        min_lon_ind = ceil((min_lon + 180) * band_width / 360)\n",
    "        max_lon_ind = max(ceil((max_lon + 180) * band_width / 360), min_lon_ind + 1)\n",
    "        rows = UnitRange{Int}(min_lat_ind, max_lat_ind)\n",
    "        cols = UnitRange{Int}(min_lon_ind, max_lon_ind)\n",
    "        bounding_box_contents = ArchGDAL.read(band, rows, cols)\n",
    "    end\n",
    "end"
   ]
  },
  {
   "cell_type": "code",
   "execution_count": null,
   "metadata": {},
   "outputs": [],
   "source": []
  },
  {
   "cell_type": "code",
   "execution_count": null,
   "metadata": {},
   "outputs": [],
   "source": []
  }
 ],
 "metadata": {
  "kernelspec": {
   "display_name": "Julia 1.1.1",
   "language": "julia",
   "name": "julia-1.1"
  },
  "language_info": {
   "file_extension": ".jl",
   "mimetype": "application/julia",
   "name": "julia",
   "version": "1.1.1"
  }
 },
 "nbformat": 4,
 "nbformat_minor": 2
}
