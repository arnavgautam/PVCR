{
 "cells": [
  {
   "cell_type": "code",
   "execution_count": 30,
   "metadata": {},
   "outputs": [],
   "source": [
    "include(\"PVCR.jl\");"
   ]
  },
  {
   "cell_type": "code",
   "execution_count": 31,
   "metadata": {},
   "outputs": [],
   "source": [
    "using DataFrames\n",
    "using CSV"
   ]
  },
  {
   "cell_type": "code",
   "execution_count": 32,
   "metadata": {},
   "outputs": [],
   "source": [
    "CNFL_res = CSV.read(\"data/hist_CNFL_res.csv\");"
   ]
  },
  {
   "cell_type": "code",
   "execution_count": 33,
   "metadata": {},
   "outputs": [
    {
     "data": {
      "text/html": [
       "<table class=\"data-frame\"><thead><tr><th></th><th>Month</th><th>Bloque 0-30 kWh</th><th>Bloque 31-200 kWh</th><th>Bloque 201-300 kWh</th><th>Bloque mayor a 300 kWh</th></tr><tr><th></th><th>String⍰</th><th>Float64⍰</th><th>Float64⍰</th><th>Float64⍰</th><th>Float64⍰</th></tr></thead><tbody><p>36 rows × 5 columns</p><tr><th>1</th><td>Apr-16</td><td>2177.7</td><td>72.59</td><td>111.37</td><td>115.14</td></tr><tr><th>2</th><td>May-16</td><td>2177.7</td><td>72.59</td><td>111.37</td><td>115.14</td></tr><tr><th>3</th><td>Jun-16</td><td>2177.7</td><td>72.59</td><td>111.37</td><td>115.14</td></tr><tr><th>4</th><td>Jul-16</td><td>2274.6</td><td>75.82</td><td>116.34</td><td>120.26</td></tr><tr><th>5</th><td>Aug-16</td><td>2274.6</td><td>75.82</td><td>116.34</td><td>120.26</td></tr><tr><th>6</th><td>Sep-16</td><td>2274.6</td><td>75.82</td><td>116.34</td><td>120.26</td></tr><tr><th>7</th><td>Oct-16</td><td>2212.2</td><td>73.74</td><td>113.15</td><td>116.97</td></tr><tr><th>8</th><td>Nov-16</td><td>2212.2</td><td>73.74</td><td>113.15</td><td>116.97</td></tr><tr><th>9</th><td>Dec-16</td><td>2212.2</td><td>73.74</td><td>113.15</td><td>116.97</td></tr><tr><th>10</th><td>Jan-17</td><td>1868.4</td><td>62.28</td><td>95.58</td><td>98.8</td></tr><tr><th>11</th><td>Feb-17</td><td>1868.4</td><td>62.28</td><td>95.58</td><td>98.8</td></tr><tr><th>12</th><td>Mar-17</td><td>1868.4</td><td>62.28</td><td>95.58</td><td>98.8</td></tr><tr><th>13</th><td>Apr-17</td><td>1892.55</td><td>63.085</td><td>96.8117</td><td>100.073</td></tr><tr><th>14</th><td>May-17</td><td>1892.1</td><td>63.07</td><td>96.79</td><td>100.05</td></tr><tr><th>15</th><td>Jun-17</td><td>1892.1</td><td>63.07</td><td>96.79</td><td>100.05</td></tr><tr><th>16</th><td>Jul-17</td><td>1883.1</td><td>62.77</td><td>96.33</td><td>99.58</td></tr><tr><th>17</th><td>Aug-17</td><td>1883.1</td><td>62.77</td><td>96.33</td><td>99.58</td></tr><tr><th>18</th><td>Sep-17</td><td>1883.1</td><td>62.77</td><td>96.33</td><td>99.58</td></tr><tr><th>19</th><td>Oct-17</td><td>2100.3</td><td>70.01</td><td>107.43</td><td>111.06</td></tr><tr><th>20</th><td>Nov-17</td><td>2100.3</td><td>70.01</td><td>107.43</td><td>111.06</td></tr><tr><th>21</th><td>Dec-17</td><td>2100.3</td><td>70.01</td><td>107.43</td><td>111.06</td></tr><tr><th>22</th><td>Jan-18</td><td>2157.3</td><td>71.91</td><td>110.35</td><td>114.08</td></tr><tr><th>23</th><td>Feb-18</td><td>2157.3</td><td>71.91</td><td>110.35</td><td>114.08</td></tr><tr><th>24</th><td>Mar-18</td><td>2157.3</td><td>71.91</td><td>110.35</td><td>114.08</td></tr><tr><th>25</th><td>Apr-18</td><td>2139.9</td><td>71.33</td><td>109.46</td><td>113.17</td></tr><tr><th>26</th><td>May-18</td><td>2139.9</td><td>71.33</td><td>109.46</td><td>113.17</td></tr><tr><th>27</th><td>Jun-18</td><td>2139.9</td><td>71.33</td><td>109.46</td><td>113.17</td></tr><tr><th>28</th><td>Jul-18</td><td>2181.9</td><td>72.73</td><td>111.62</td><td>115.39</td></tr><tr><th>29</th><td>Aug-18</td><td>2181.9</td><td>72.73</td><td>111.62</td><td>115.39</td></tr><tr><th>30</th><td>Sep-18</td><td>2181.9</td><td>72.73</td><td>111.62</td><td>115.39</td></tr><tr><th>&vellip;</th><td>&vellip;</td><td>&vellip;</td><td>&vellip;</td><td>&vellip;</td><td>&vellip;</td></tr></tbody></table>"
      ],
      "text/latex": [
       "\\begin{tabular}{r|ccccc}\n",
       "\t& Month & Bloque 0-30 kWh & Bloque 31-200 kWh & Bloque 201-300 kWh & Bloque mayor a 300 kWh\\\\\n",
       "\t\\hline\n",
       "\t1 & Apr-16 & 2177.7 & 72.59 & 111.37 & 115.14 \\\\\n",
       "\t2 & May-16 & 2177.7 & 72.59 & 111.37 & 115.14 \\\\\n",
       "\t3 & Jun-16 & 2177.7 & 72.59 & 111.37 & 115.14 \\\\\n",
       "\t4 & Jul-16 & 2274.6 & 75.82 & 116.34 & 120.26 \\\\\n",
       "\t5 & Aug-16 & 2274.6 & 75.82 & 116.34 & 120.26 \\\\\n",
       "\t6 & Sep-16 & 2274.6 & 75.82 & 116.34 & 120.26 \\\\\n",
       "\t7 & Oct-16 & 2212.2 & 73.74 & 113.15 & 116.97 \\\\\n",
       "\t8 & Nov-16 & 2212.2 & 73.74 & 113.15 & 116.97 \\\\\n",
       "\t9 & Dec-16 & 2212.2 & 73.74 & 113.15 & 116.97 \\\\\n",
       "\t10 & Jan-17 & 1868.4 & 62.28 & 95.58 & 98.8 \\\\\n",
       "\t11 & Feb-17 & 1868.4 & 62.28 & 95.58 & 98.8 \\\\\n",
       "\t12 & Mar-17 & 1868.4 & 62.28 & 95.58 & 98.8 \\\\\n",
       "\t13 & Apr-17 & 1892.55 & 63.085 & 96.8117 & 100.073 \\\\\n",
       "\t14 & May-17 & 1892.1 & 63.07 & 96.79 & 100.05 \\\\\n",
       "\t15 & Jun-17 & 1892.1 & 63.07 & 96.79 & 100.05 \\\\\n",
       "\t16 & Jul-17 & 1883.1 & 62.77 & 96.33 & 99.58 \\\\\n",
       "\t17 & Aug-17 & 1883.1 & 62.77 & 96.33 & 99.58 \\\\\n",
       "\t18 & Sep-17 & 1883.1 & 62.77 & 96.33 & 99.58 \\\\\n",
       "\t19 & Oct-17 & 2100.3 & 70.01 & 107.43 & 111.06 \\\\\n",
       "\t20 & Nov-17 & 2100.3 & 70.01 & 107.43 & 111.06 \\\\\n",
       "\t21 & Dec-17 & 2100.3 & 70.01 & 107.43 & 111.06 \\\\\n",
       "\t22 & Jan-18 & 2157.3 & 71.91 & 110.35 & 114.08 \\\\\n",
       "\t23 & Feb-18 & 2157.3 & 71.91 & 110.35 & 114.08 \\\\\n",
       "\t24 & Mar-18 & 2157.3 & 71.91 & 110.35 & 114.08 \\\\\n",
       "\t25 & Apr-18 & 2139.9 & 71.33 & 109.46 & 113.17 \\\\\n",
       "\t26 & May-18 & 2139.9 & 71.33 & 109.46 & 113.17 \\\\\n",
       "\t27 & Jun-18 & 2139.9 & 71.33 & 109.46 & 113.17 \\\\\n",
       "\t28 & Jul-18 & 2181.9 & 72.73 & 111.62 & 115.39 \\\\\n",
       "\t29 & Aug-18 & 2181.9 & 72.73 & 111.62 & 115.39 \\\\\n",
       "\t30 & Sep-18 & 2181.9 & 72.73 & 111.62 & 115.39 \\\\\n",
       "\t$\\dots$ & $\\dots$ & $\\dots$ & $\\dots$ & $\\dots$ & $\\dots$ \\\\\n",
       "\\end{tabular}\n"
      ],
      "text/plain": [
       "36×5 DataFrame. Omitted printing of 1 columns\n",
       "│ Row │ Month   │ Bloque 0-30 kWh │ Bloque 31-200 kWh │ Bloque 201-300 kWh │\n",
       "│     │ \u001b[90mString⍰\u001b[39m │ \u001b[90mFloat64⍰\u001b[39m        │ \u001b[90mFloat64⍰\u001b[39m          │ \u001b[90mFloat64⍰\u001b[39m           │\n",
       "├─────┼─────────┼─────────────────┼───────────────────┼────────────────────┤\n",
       "│ 1   │ Apr-16  │ 2177.7          │ 72.59             │ 111.37             │\n",
       "│ 2   │ May-16  │ 2177.7          │ 72.59             │ 111.37             │\n",
       "│ 3   │ Jun-16  │ 2177.7          │ 72.59             │ 111.37             │\n",
       "│ 4   │ Jul-16  │ 2274.6          │ 75.82             │ 116.34             │\n",
       "│ 5   │ Aug-16  │ 2274.6          │ 75.82             │ 116.34             │\n",
       "│ 6   │ Sep-16  │ 2274.6          │ 75.82             │ 116.34             │\n",
       "│ 7   │ Oct-16  │ 2212.2          │ 73.74             │ 113.15             │\n",
       "│ 8   │ Nov-16  │ 2212.2          │ 73.74             │ 113.15             │\n",
       "│ 9   │ Dec-16  │ 2212.2          │ 73.74             │ 113.15             │\n",
       "│ 10  │ Jan-17  │ 1868.4          │ 62.28             │ 95.58              │\n",
       "⋮\n",
       "│ 26  │ May-18  │ 2139.9          │ 71.33             │ 109.46             │\n",
       "│ 27  │ Jun-18  │ 2139.9          │ 71.33             │ 109.46             │\n",
       "│ 28  │ Jul-18  │ 2181.9          │ 72.73             │ 111.62             │\n",
       "│ 29  │ Aug-18  │ 2181.9          │ 72.73             │ 111.62             │\n",
       "│ 30  │ Sep-18  │ 2181.9          │ 72.73             │ 111.62             │\n",
       "│ 31  │ Oct-18  │ 2156.1          │ 71.87             │ 110.3              │\n",
       "│ 32  │ Nov-18  │ 2156.1          │ 71.87             │ 110.3              │\n",
       "│ 33  │ Dec-18  │ 2156.1          │ 71.87             │ 110.3              │\n",
       "│ 34  │ Jan-19  │ 1893.9          │ 63.13             │ 96.87              │\n",
       "│ 35  │ Feb-19  │ 1893.9          │ 63.13             │ 96.87              │\n",
       "│ 36  │ Mar-19  │ 1893.9          │ 63.13             │ 96.87              │"
      ]
     },
     "execution_count": 33,
     "metadata": {},
     "output_type": "execute_result"
    }
   ],
   "source": [
    "CNFL_res"
   ]
  },
  {
   "cell_type": "code",
   "execution_count": null,
   "metadata": {},
   "outputs": [],
   "source": [
    "R_CNFL = Tariff(\"CNFL\",\n",
    "                \"Residential\",\n",
    "                [(0:30.99, 1893.90), (31:200.99, 63.13), (201:300, 96.87), (301:1000, 100.14)],\n",
    "                nothing,\n",
    "                0.06,\n",
    "                21.03,\n",
    "                0.01,\n",
    "                [0.992832136 0.999770704 1.00427654 0.983489891 1.009385917 1.012387984 0.979508228 0.994153679 0.97686098 1.015651323 1.015252586 1.016430032]);"
   ]
  },
  {
   "cell_type": "code",
   "execution_count": 14,
   "metadata": {},
   "outputs": [
    {
     "data": {
      "text/plain": [
       "DataFrameRow (row 1)\n",
       "Month                   Apr-16\n",
       "Bloque 0-30 kWh         2177.7\n",
       "Bloque 31-200 kWh       72.59\n",
       "Bloque 201-300 kWh      111.37\n",
       "Bloque mayor a 300 kWh  115.14"
      ]
     },
     "execution_count": 14,
     "metadata": {},
     "output_type": "execute_result"
    }
   ],
   "source": [
    "CNFL_res[1,:]"
   ]
  },
  {
   "cell_type": "code",
   "execution_count": 18,
   "metadata": {},
   "outputs": [
    {
     "data": {
      "text/plain": [
       "6-element Array{Tuple{StepRangeLen{Float64,Base.TwicePrecision{Float64},Base.TwicePrecision{Float64}},Int64},1}:\n",
       " (0.0:1.0:3.0, 2000)  \n",
       " (3.0:1.0:5.0, 1800)  \n",
       " (5.0:1.0:10.0, 1700) \n",
       " (10.0:1.0:15.0, 1500)\n",
       " (15.0:1.0:20.0, 1350)\n",
       " (20.0:1.0:50.0, 1200)"
      ]
     },
     "execution_count": 18,
     "metadata": {},
     "output_type": "execute_result"
    }
   ],
   "source": [
    "p_cost =  [(0:3.0, 2000), (3.0:5.0, 1800), (5.0:10.0, 1700), (10.0:15.0, 1500), (15.0:20.0, 1350), (20.0:50.0, 1200)]"
   ]
  },
  {
   "cell_type": "code",
   "execution_count": 19,
   "metadata": {},
   "outputs": [
    {
     "data": {
      "text/plain": [
       "print_tariff (generic function with 1 method)"
      ]
     },
     "execution_count": 19,
     "metadata": {},
     "output_type": "execute_result"
    }
   ],
   "source": [
    "function print_tariff(range)\n",
    "    \n",
    "        x = []\n",
    "        y = []\n",
    "        for block in range \n",
    "            x = vcat(x,block[1])\n",
    "            y = vcat(y, block[2]*ones(length(block[1])))\n",
    "        end\n",
    "    \n",
    "    plot(x,y)\n",
    "\n",
    "end"
   ]
  },
  {
   "cell_type": "code",
   "execution_count": 28,
   "metadata": {},
   "outputs": [
    {
     "data": {
      "image/png": "[encoded data removed]",
      "text/plain": [
       "Figure(PyObject <Figure size 640x480 with 1 Axes>)"
      ]
     },
     "metadata": {},
     "output_type": "display_data"
    }
   ],
   "source": [
    "print_tariff(p_cost)\n",
    "xlabel(\"System Size [kWp]\")\n",
    "ylabel(\"Cost [\\$ -kWp]\")\n",
    "grid(\"on\")"
   ]
  },
  {
   "cell_type": "code",
   "execution_count": 43,
   "metadata": {},
   "outputs": [
    {
     "name": "stdout",
     "output_type": "stream",
     "text": [
      "Tariff\n",
      "  provider: String \"CNFL\"\n",
      "  category: String \"Residential\"\n",
      "  e_cost: Array{Any}((3,))\n",
      "    1: Tuple{UnitRange{Int64},Float64}\n",
      "      1: UnitRange{Int64}\n",
      "        start: Int64 0\n",
      "        stop: Int64 200\n",
      "      2: Float64 63.13\n",
      "    2: Tuple{UnitRange{Int64},Float64}\n",
      "      1: UnitRange{Int64}\n",
      "        start: Int64 200\n",
      "        stop: Int64 300\n",
      "      2: Float64 96.87\n",
      "    3: Tuple{UnitRange{Int64},Float64}\n",
      "      1: UnitRange{Int64}\n",
      "        start: Int64 300\n",
      "        stop: Int64 1000\n",
      "      2: Float64 100.14\n",
      "  p_cost: Nothing nothing\n",
      "  increase: Float64 0.06\n",
      "  access: Float64 21.03\n",
      "  street_light: Float64 3.51\n",
      "  access_increase: Float64 0.01\n",
      "  behaviour: Array{Float64}((1, 12)) [0.992832 0.999771 … 1.01525 1.01643]\n"
     ]
    }
   ],
   "source": [
    "dump(R_CNFL)"
   ]
  },
  {
   "cell_type": "code",
   "execution_count": 30,
   "metadata": {},
   "outputs": [
    {
     "data": {
      "text/plain": [
       "1003-element Array{Any,1}:\n",
       "    0\n",
       "    1\n",
       "    2\n",
       "    3\n",
       "    4\n",
       "    5\n",
       "    6\n",
       "    7\n",
       "    8\n",
       "    9\n",
       "   10\n",
       "   11\n",
       "   12\n",
       "    ⋮\n",
       "  989\n",
       "  990\n",
       "  991\n",
       "  992\n",
       "  993\n",
       "  994\n",
       "  995\n",
       "  996\n",
       "  997\n",
       "  998\n",
       "  999\n",
       " 1000"
      ]
     },
     "execution_count": 30,
     "metadata": {},
     "output_type": "execute_result"
    }
   ],
   "source": [
    "r"
   ]
  },
  {
   "cell_type": "code",
   "execution_count": null,
   "metadata": {},
   "outputs": [],
   "source": []
  }
 ],
 "metadata": {
  "kernelspec": {
   "display_name": "Julia 1.1.0",
   "language": "julia",
   "name": "julia-1.1"
  },
  "language_info": {
   "file_extension": ".jl",
   "mimetype": "application/julia",
   "name": "julia",
   "version": "1.1.0"
  }
 },
 "nbformat": 4,
 "nbformat_minor": 2
}
