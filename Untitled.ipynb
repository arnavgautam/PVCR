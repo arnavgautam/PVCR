{
 "cells": [
  {
   "cell_type": "code",
   "execution_count": 73,
   "metadata": {},
   "outputs": [
    {
     "data": {
      "text/plain": [
       "4.0"
      ]
     },
     "execution_count": 73,
     "metadata": {},
     "output_type": "execute_result"
    }
   ],
   "source": [
    "include(\"PVCR.jl\");\n",
    "consumer = residential \n",
    "pvsys = deepcopy(PVRes)\n",
    "pvsys.capacity = 4.0 "
   ]
  },
  {
   "cell_type": "code",
   "execution_count": 74,
   "metadata": {},
   "outputs": [
    {
     "data": {
      "text/plain": [
       "0.0"
      ]
     },
     "execution_count": 74,
     "metadata": {},
     "output_type": "execute_result"
    }
   ],
   "source": [
    "utility = Dict{Int64,Any}()\n",
    "results = Dict{Int64,Any}()\n",
    "    \n",
    "d_d = Truncated(Normal(0.0, 0.5), -0.10, 0.10)\n",
    "d_s = Truncated(Normal(-0.2, 0.5), -0.10, 0.15)\n",
    "days_p_month = [31, 28, 31, 30, 31, 30, 31, 31, 30, 31, 30, 31]\n",
    "m_h = 0\n",
    "count = 0\n",
    "\n",
    "# Initial conditions\n",
    "carry_over = 0.0\n",
    "global_allowance = 0.0\n",
    "global_withdrawal = 0.0\n",
    "global_generation = 0.0"
   ]
  },
  {
   "cell_type": "code",
   "execution_count": 75,
   "metadata": {},
   "outputs": [],
   "source": []
  },
  {
   "cell_type": "code",
   "execution_count": 76,
   "metadata": {},
   "outputs": [
    {
     "data": {
      "text/plain": [
       "Dict{String,Float64} with 13 entries:\n",
       "  \"PV_energy\"               => 765.194\n",
       "  \"consumer_energy\"         => 544.324\n",
       "  \"withdrawn_energy\"        => 279.381\n",
       "  \"peak_demand\"             => 1.18343\n",
       "  \"injection_grid\"          => 500.251\n",
       "  \"grid_energy\"             => 279.381\n",
       "  \"global_generation\"       => 765.194\n",
       "  \"allowance\"               => 374.945\n",
       "  \"peak_power\"              => 1.18343\n",
       "  \"global_allowance\"        => 374.945\n",
       "  \"carry_over\"              => 95.5638\n",
       "  \"global_withdrawal\"       => 279.381\n",
       "  \"utility_supplied_energy\" => 0.0"
      ]
     },
     "execution_count": 76,
     "metadata": {},
     "output_type": "execute_result"
    }
   ],
   "source": [
    "results[1]"
   ]
  },
  {
   "cell_type": "code",
   "execution_count": 77,
   "metadata": {},
   "outputs": [
    {
     "data": {
      "text/plain": [
       "Dict{String,Float64} with 6 entries:\n",
       "  \"consumer_energy_night\"  => 202.331\n",
       "  \"consumer_energy_valley\" => 187.414\n",
       "  \"consumer_energy_peak\"   => 154.58\n",
       "  \"grid_energy_night\"      => 202.331\n",
       "  \"grid_energy_peak\"       => 53.6045\n",
       "  \"grid_energy_valley\"     => 23.4457"
      ]
     },
     "execution_count": 77,
     "metadata": {},
     "output_type": "execute_result"
    }
   ],
   "source": [
    "utility[1]"
   ]
  },
  {
   "cell_type": "code",
   "execution_count": 78,
   "metadata": {},
   "outputs": [
    {
     "data": {
      "text/plain": [
       "Dict{String,Float64} with 13 entries:\n",
       "  \"PV_energy\"               => 567.834\n",
       "  \"consumer_energy\"         => 544.835\n",
       "  \"withdrawn_energy\"        => 300.419\n",
       "  \"peak_demand\"             => 1.29938\n",
       "  \"injection_grid\"          => 323.419\n",
       "  \"grid_energy\"             => 300.419\n",
       "  \"global_generation\"       => 1333.03\n",
       "  \"allowance\"               => 373.803\n",
       "  \"peak_power\"              => 1.29938\n",
       "  \"global_allowance\"        => 373.803\n",
       "  \"carry_over\"              => 73.3838\n",
       "  \"global_withdrawal\"       => 579.8\n",
       "  \"utility_supplied_energy\" => 0.0"
      ]
     },
     "execution_count": 78,
     "metadata": {},
     "output_type": "execute_result"
    }
   ],
   "source": [
    "results[2]"
   ]
  },
  {
   "cell_type": "code",
   "execution_count": null,
   "metadata": {},
   "outputs": [],
   "source": []
  }
 ],
 "metadata": {
  "kernelspec": {
   "display_name": "Julia 1.1.0",
   "language": "julia",
   "name": "julia-1.1"
  },
  "language_info": {
   "file_extension": ".jl",
   "mimetype": "application/julia",
   "name": "julia",
   "version": "1.1.0"
  }
 },
 "nbformat": 4,
 "nbformat_minor": 2
}
