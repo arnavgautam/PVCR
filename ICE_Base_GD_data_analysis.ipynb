{
 "cells": [
  {
   "cell_type": "code",
   "execution_count": 1,
   "metadata": {},
   "outputs": [
    {
     "data": {
      "text/plain": [
       "true"
      ]
     },
     "execution_count": 1,
     "metadata": {},
     "output_type": "execute_result"
    }
   ],
   "source": [
    "# using DataFrames\n",
    "# using CSV\n",
    "include(\"PVCR.jl\");\n",
    "include(\"functions/plotting_base_gd.jl\")\n",
    "pygui(true)"
   ]
  },
  {
   "cell_type": "code",
   "execution_count": 2,
   "metadata": {},
   "outputs": [
    {
     "data": {
      "text/html": [
       "<table class=\"data-frame\"><thead><tr><th></th><th>ANNO</th><th>MES</th><th>ENERGIA_GENERADA</th><th>ENERGIA_DEPOSITADA</th><th>ENERGIA_RETIRADA</th><th>IMPORTE_POR_ENERGIA_RETIRADA</th></tr><tr><th></th><th>Int64</th><th>Int64</th><th>Float64⍰</th><th>Float64⍰</th><th>Float64⍰</th><th>Float64⍰</th></tr></thead><tbody><p>5,561 rows × 17 columns (omitted printing of 11 columns)</p><tr><th>1</th><td>2018</td><td>1</td><td>1511.0</td><td>774.0</td><td>741.0</td><td>19992.0</td></tr><tr><th>2</th><td>2018</td><td>2</td><td>1343.0</td><td>718.0</td><td>658.0</td><td>18332.0</td></tr><tr><th>3</th><td>2018</td><td>3</td><td>1537.0</td><td>665.0</td><td>753.0</td><td>20979.0</td></tr><tr><th>4</th><td>2018</td><td>4</td><td>1789.0</td><td>898.0</td><td>876.0</td><td>24405.0</td></tr><tr><th>5</th><td>2018</td><td>5</td><td>1623.0</td><td>944.0</td><td>796.0</td><td>22177.0</td></tr><tr><th>6</th><td>2018</td><td>6</td><td>1108.0</td><td>530.0</td><td>543.0</td><td>15128.0</td></tr><tr><th>7</th><td>2018</td><td>7</td><td>1398.0</td><td>632.0</td><td>685.0</td><td>18337.0</td></tr><tr><th>8</th><td>2018</td><td>8</td><td>1265.0</td><td>653.0</td><td>619.0</td><td>17245.0</td></tr><tr><th>9</th><td>2018</td><td>9</td><td>1321.0</td><td>753.0</td><td>648.0</td><td>18053.0</td></tr><tr><th>10</th><td>2018</td><td>10</td><td>1381.0</td><td>984.0</td><td>674.0</td><td>18778.0</td></tr><tr><th>11</th><td>2018</td><td>1</td><td>618.0</td><td>308.0</td><td>308.0</td><td>8473.0</td></tr><tr><th>12</th><td>2018</td><td>2</td><td>716.0</td><td>362.0</td><td>362.0</td><td>10085.0</td></tr><tr><th>13</th><td>2018</td><td>3</td><td>672.0</td><td>240.0</td><td>240.0</td><td>6686.0</td></tr><tr><th>14</th><td>2018</td><td>4</td><td>695.0</td><td>271.0</td><td>271.0</td><td>7550.0</td></tr><tr><th>15</th><td>2018</td><td>5</td><td>522.0</td><td>196.0</td><td>196.0</td><td>5461.0</td></tr><tr><th>16</th><td>2018</td><td>6</td><td>530.0</td><td>151.0</td><td>151.0</td><td>4207.0</td></tr><tr><th>17</th><td>2018</td><td>7</td><td>489.0</td><td>131.0</td><td>131.0</td><td>3507.0</td></tr><tr><th>18</th><td>2018</td><td>8</td><td>461.0</td><td>115.0</td><td>115.0</td><td>3204.0</td></tr><tr><th>19</th><td>2018</td><td>9</td><td>529.0</td><td>152.0</td><td>152.0</td><td>4235.0</td></tr><tr><th>20</th><td>2018</td><td>10</td><td>520.0</td><td>157.0</td><td>157.0</td><td>4374.0</td></tr><tr><th>21</th><td>2018</td><td>1</td><td>252.0</td><td>184.0</td><td>83.0</td><td>2225.0</td></tr><tr><th>22</th><td>2018</td><td>2</td><td>604.0</td><td>376.0</td><td>336.0</td><td>9361.0</td></tr><tr><th>23</th><td>2018</td><td>3</td><td>672.0</td><td>122.0</td><td>263.0</td><td>7327.0</td></tr><tr><th>24</th><td>2018</td><td>4</td><td>787.0</td><td>32.0</td><td>32.0</td><td>892.0</td></tr><tr><th>25</th><td>2018</td><td>5</td><td>630.0</td><td>325.0</td><td>9.0</td><td>251.0</td></tr><tr><th>26</th><td>2018</td><td>6</td><td>507.0</td><td>404.0</td><td>378.0</td><td>10531.0</td></tr><tr><th>27</th><td>2018</td><td>7</td><td>518.0</td><td>464.0</td><td>96.0</td><td>2570.0</td></tr><tr><th>28</th><td>2018</td><td>8</td><td>497.0</td><td>449.0</td><td>79.0</td><td>2201.0</td></tr><tr><th>29</th><td>2018</td><td>9</td><td>596.0</td><td>536.0</td><td>90.0</td><td>2507.0</td></tr><tr><th>30</th><td>2018</td><td>10</td><td>462.0</td><td>419.0</td><td>75.0</td><td>2090.0</td></tr><tr><th>&vellip;</th><td>&vellip;</td><td>&vellip;</td><td>&vellip;</td><td>&vellip;</td><td>&vellip;</td><td>&vellip;</td></tr></tbody></table>"
      ],
      "text/latex": [
       "\\begin{tabular}{r|ccccccc}\n",
       "\t& ANNO & MES & ENERGIA\\_GENERADA & ENERGIA\\_DEPOSITADA & ENERGIA\\_RETIRADA & IMPORTE\\_POR\\_ENERGIA\\_RETIRADA & \\\\\n",
       "\t\\hline\n",
       "\t& Int64 & Int64 & Float64⍰ & Float64⍰ & Float64⍰ & Float64⍰ & \\\\\n",
       "\t\\hline\n",
       "\t1 & 2018 & 1 & 1511.0 & 774.0 & 741.0 & 19992.0 & $\\dots$ \\\\\n",
       "\t2 & 2018 & 2 & 1343.0 & 718.0 & 658.0 & 18332.0 & $\\dots$ \\\\\n",
       "\t3 & 2018 & 3 & 1537.0 & 665.0 & 753.0 & 20979.0 & $\\dots$ \\\\\n",
       "\t4 & 2018 & 4 & 1789.0 & 898.0 & 876.0 & 24405.0 & $\\dots$ \\\\\n",
       "\t5 & 2018 & 5 & 1623.0 & 944.0 & 796.0 & 22177.0 & $\\dots$ \\\\\n",
       "\t6 & 2018 & 6 & 1108.0 & 530.0 & 543.0 & 15128.0 & $\\dots$ \\\\\n",
       "\t7 & 2018 & 7 & 1398.0 & 632.0 & 685.0 & 18337.0 & $\\dots$ \\\\\n",
       "\t8 & 2018 & 8 & 1265.0 & 653.0 & 619.0 & 17245.0 & $\\dots$ \\\\\n",
       "\t9 & 2018 & 9 & 1321.0 & 753.0 & 648.0 & 18053.0 & $\\dots$ \\\\\n",
       "\t10 & 2018 & 10 & 1381.0 & 984.0 & 674.0 & 18778.0 & $\\dots$ \\\\\n",
       "\t11 & 2018 & 1 & 618.0 & 308.0 & 308.0 & 8473.0 & $\\dots$ \\\\\n",
       "\t12 & 2018 & 2 & 716.0 & 362.0 & 362.0 & 10085.0 & $\\dots$ \\\\\n",
       "\t13 & 2018 & 3 & 672.0 & 240.0 & 240.0 & 6686.0 & $\\dots$ \\\\\n",
       "\t14 & 2018 & 4 & 695.0 & 271.0 & 271.0 & 7550.0 & $\\dots$ \\\\\n",
       "\t15 & 2018 & 5 & 522.0 & 196.0 & 196.0 & 5461.0 & $\\dots$ \\\\\n",
       "\t16 & 2018 & 6 & 530.0 & 151.0 & 151.0 & 4207.0 & $\\dots$ \\\\\n",
       "\t17 & 2018 & 7 & 489.0 & 131.0 & 131.0 & 3507.0 & $\\dots$ \\\\\n",
       "\t18 & 2018 & 8 & 461.0 & 115.0 & 115.0 & 3204.0 & $\\dots$ \\\\\n",
       "\t19 & 2018 & 9 & 529.0 & 152.0 & 152.0 & 4235.0 & $\\dots$ \\\\\n",
       "\t20 & 2018 & 10 & 520.0 & 157.0 & 157.0 & 4374.0 & $\\dots$ \\\\\n",
       "\t21 & 2018 & 1 & 252.0 & 184.0 & 83.0 & 2225.0 & $\\dots$ \\\\\n",
       "\t22 & 2018 & 2 & 604.0 & 376.0 & 336.0 & 9361.0 & $\\dots$ \\\\\n",
       "\t23 & 2018 & 3 & 672.0 & 122.0 & 263.0 & 7327.0 & $\\dots$ \\\\\n",
       "\t24 & 2018 & 4 & 787.0 & 32.0 & 32.0 & 892.0 & $\\dots$ \\\\\n",
       "\t25 & 2018 & 5 & 630.0 & 325.0 & 9.0 & 251.0 & $\\dots$ \\\\\n",
       "\t26 & 2018 & 6 & 507.0 & 404.0 & 378.0 & 10531.0 & $\\dots$ \\\\\n",
       "\t27 & 2018 & 7 & 518.0 & 464.0 & 96.0 & 2570.0 & $\\dots$ \\\\\n",
       "\t28 & 2018 & 8 & 497.0 & 449.0 & 79.0 & 2201.0 & $\\dots$ \\\\\n",
       "\t29 & 2018 & 9 & 596.0 & 536.0 & 90.0 & 2507.0 & $\\dots$ \\\\\n",
       "\t30 & 2018 & 10 & 462.0 & 419.0 & 75.0 & 2090.0 & $\\dots$ \\\\\n",
       "\t$\\dots$ & $\\dots$ & $\\dots$ & $\\dots$ & $\\dots$ & $\\dots$ & $\\dots$ &  \\\\\n",
       "\\end{tabular}\n"
      ],
      "text/plain": [
       "5561×17 DataFrame. Omitted printing of 13 columns\n",
       "│ Row  │ ANNO  │ MES   │ ENERGIA_GENERADA │ ENERGIA_DEPOSITADA │\n",
       "│      │ \u001b[90mInt64\u001b[39m │ \u001b[90mInt64\u001b[39m │ \u001b[90mFloat64⍰\u001b[39m         │ \u001b[90mFloat64⍰\u001b[39m           │\n",
       "├──────┼───────┼───────┼──────────────────┼────────────────────┤\n",
       "│ 1    │ 2018  │ 1     │ 1511.0           │ 774.0              │\n",
       "│ 2    │ 2018  │ 2     │ 1343.0           │ 718.0              │\n",
       "│ 3    │ 2018  │ 3     │ 1537.0           │ 665.0              │\n",
       "│ 4    │ 2018  │ 4     │ 1789.0           │ 898.0              │\n",
       "│ 5    │ 2018  │ 5     │ 1623.0           │ 944.0              │\n",
       "│ 6    │ 2018  │ 6     │ 1108.0           │ 530.0              │\n",
       "│ 7    │ 2018  │ 7     │ 1398.0           │ 632.0              │\n",
       "│ 8    │ 2018  │ 8     │ 1265.0           │ 653.0              │\n",
       "│ 9    │ 2018  │ 9     │ 1321.0           │ 753.0              │\n",
       "│ 10   │ 2018  │ 10    │ 1381.0           │ 984.0              │\n",
       "⋮\n",
       "│ 5551 │ 2017  │ 2     │ 1264.0           │ 733.0              │\n",
       "│ 5552 │ 2017  │ 3     │ 1385.0           │ 819.0              │\n",
       "│ 5553 │ 2017  │ 4     │ 1478.0           │ 890.0              │\n",
       "│ 5554 │ 2017  │ 5     │ 1238.0           │ 700.0              │\n",
       "│ 5555 │ 2017  │ 6     │ 1.0              │ 0.0                │\n",
       "│ 5556 │ 2017  │ 7     │ 304.0            │ 106.0              │\n",
       "│ 5557 │ 2017  │ 8     │ 326.0            │ 42.0               │\n",
       "│ 5558 │ 2017  │ 9     │ 613.0            │ 222.0              │\n",
       "│ 5559 │ 2017  │ 10    │ 989.0            │ 549.0              │\n",
       "│ 5560 │ 2017  │ 11    │ 886.0            │ 432.0              │\n",
       "│ 5561 │ 2017  │ 12    │ 927.0            │ 463.0              │"
      ]
     },
     "execution_count": 2,
     "metadata": {},
     "output_type": "execute_result"
    }
   ],
   "source": [
    "# Read in all of the utility bills for the various utilities and tariff types\n",
    "base_GD = CSV.read(\"data/Base_GD.csv\")\n",
    "\n",
    "# Narrow down to {Residential | Commerical Industrial | Medium Voltage} ICE customers\n",
    "\n",
    "all_ice = filter(row -> (!ismissing(row.EMPRESA) && row.EMPRESA == \"ICE\"), base_GD)"
   ]
  },
  {
   "cell_type": "code",
   "execution_count": 10,
   "metadata": {},
   "outputs": [],
   "source": [
    "# Plot out what consumers truly install\n",
    "# plot_all_tariffs_per_company(all_ice, \"ICE\")"
   ]
  },
  {
   "cell_type": "code",
   "execution_count": 11,
   "metadata": {},
   "outputs": [],
   "source": [
    "# Compare this real-world data with the predicted adoption of the economically rational model in Notebook 4\n",
    "\n",
    "# Residential\n",
    "res_consumption = 100:100:5000\n",
    "res_model_predictions = []\n",
    "for (ix, co) in enumerate(res_consumption)\n",
    "    ice_residential.econsumption = co; get_pmax(ice_residential);\n",
    "    res = optimal_pv(ice_residential, PVRes, 0.0:2:30, BAC1, tariff_increase = true)\n",
    "    push!(res_model_predictions, res[1][2])\n",
    "end"
   ]
  },
  {
   "cell_type": "code",
   "execution_count": 12,
   "metadata": {},
   "outputs": [
    {
     "name": "stderr",
     "output_type": "stream",
     "text": [
      "error in background error handler:\n",
      "out of stack space (infinite loop?)\n",
      "    while executing\n",
      "\"::tcl::Bgerror {out of stack space (infinite loop?)} {-code 1 -level 0 -errorcode NONE -errorinfo {out of stack space (infinite loop?)\n",
      "    while execu...\"\n",
      "error in background error handler:\n",
      "out of stack space (infinite loop?)\n",
      "    while executing\n",
      "\"::tcl::Bgerror {out of stack space (infinite loop?)} {-code 1 -level 0 -errorcode NONE -errorinfo {out of stack space (infinite loop?)\n",
      "    (\"after\" sc...\"\n",
      "error in background error handler:\n",
      "out of stack space (infinite loop?)\n",
      "    while executing\n",
      "\"::tcl::Bgerror {out of stack space (infinite loop?)} {-code 1 -level 0 -errorcode NONE -errorinfo {out of stack space (infinite loop?)\n",
      "    while execu...\"\n",
      "error in background error handler:\n",
      "out of stack space (infinite loop?)\n",
      "    while executing\n",
      "\"::tcl::Bgerror {out of stack space (infinite loop?)} {-code 1 -level 0 -errorcode NONE -errorinfo {out of stack space (infinite loop?)\n",
      "    while execu...\"\n"
     ]
    },
    {
     "data": {
      "text/plain": [
       "PyObject Text(0.5, 1.0, 'PV System Capacity for ICE Consumer with Tariff Residential')"
      ]
     },
     "execution_count": 12,
     "metadata": {},
     "output_type": "execute_result"
    },
    {
     "name": "stderr",
     "output_type": "stream",
     "text": [
      "error in background error handler:\n",
      "out of stack space (infinite loop?)\n",
      "    while executing\n",
      "\"::tcl::Bgerror {out of stack space (infinite loop?)} {-code 1 -level 0 -errorcode NONE -errorinfo {out of stack space (infinite loop?)\n",
      "    while execu...\"\n",
      "error in background error handler:\n",
      "out of stack space (infinite loop?)\n",
      "    while executing\n",
      "\"::tcl::Bgerror {out of stack space (infinite loop?)} {-code 1 -level 0 -errorcode NONE -errorinfo {out of stack space (infinite loop?)\n",
      "    while execu...\"\n",
      "error in background error handler:\n",
      "out of stack space (infinite loop?)\n",
      "    while executing\n",
      "\"::tcl::Bgerror {out of stack space (infinite loop?)} {-code 1 -level 0 -errorcode NONE -errorinfo {out of stack space (infinite loop?)\n",
      "    while execu...\"\n",
      "error in background error handler:\n",
      "out of stack space (infinite loop?)\n",
      "    while executing\n",
      "\"::tcl::Bgerror {out of stack space (infinite loop?)} {-code 1 -level 0 -errorcode NONE -errorinfo {out of stack space (infinite loop?)\n",
      "    while execu...\"\n",
      "error in background error handler:\n",
      "out of stack space (infinite loop?)\n",
      "    while executing\n",
      "\"::tcl::Bgerror {out of stack space (infinite loop?)} {-code 1 -level 0 -errorcode NONE -errorinfo {out of stack space (infinite loop?)\n",
      "    while execu...\"\n",
      "error in background error handler:\n",
      "out of stack space (infinite loop?)\n",
      "    while executing\n",
      "\"::tcl::Bgerror {out of stack space (infinite loop?)} {-code 1 -level 0 -errorcode NONE -errorinfo {out of stack space (infinite loop?)\n",
      "    while execu...\"\n",
      "error in background error handler:\n",
      "out of stack space (infinite loop?)\n",
      "    while executing\n",
      "\"::tcl::Bgerror {out of stack space (infinite loop?)} {-code 1 -level 0 -errorcode NONE -errorinfo {out of stack space (infinite loop?)\n",
      "    while execu...\"\n",
      "error in background error handler:\n",
      "out of stack space (infinite loop?)\n",
      "    while executing\n",
      "\"::tcl::Bgerror {out of stack space (infinite loop?)} {-code 1 -level 0 -errorcode NONE -errorinfo {out of stack space (infinite loop?)\n",
      "    while execu...\"\n",
      "error in background error handler:\n",
      "out of stack space (infinite loop?)\n",
      "    while executing\n",
      "\"::tcl::Bgerror {out of stack space (infinite loop?)} {-code 1 -level 0 -errorcode NONE -errorinfo {out of stack space (infinite loop?)\n",
      "    while execu...\"\n",
      "error in background error handler:\n",
      "out of stack space (infinite loop?)\n",
      "    while executing\n",
      "\"::tcl::Bgerror {out of stack space (infinite loop?)} {-code 1 -level 0 -errorcode NONE -errorinfo {out of stack space (infinite loop?)\n",
      "    while execu...\"\n",
      "error in background error handler:\n",
      "out of stack space (infinite loop?)\n",
      "    while executing\n",
      "\"::tcl::Bgerror {out of stack space (infinite loop?)} {-code 1 -level 0 -errorcode NONE -errorinfo {out of stack space (infinite loop?)\n",
      "    while execu...\"\n",
      "error in background error handler:\n",
      "out of stack space (infinite loop?)\n",
      "    while executing\n",
      "\"::tcl::Bgerror {out of stack space (infinite loop?)} {-code 1 -level 0 -errorcode NONE -errorinfo {out of stack space (infinite loop?)\n",
      "    while execu...\"\n",
      "error in background error handler:\n",
      "out of stack space (infinite loop?)\n",
      "    while executing\n",
      "\"::tcl::Bgerror {out of stack space (infinite loop?)} {-code 1 -level 0 -errorcode NONE -errorinfo {out of stack space (infinite loop?)\n",
      "    while execu...\"\n",
      "error in background error handler:\n",
      "out of stack space (infinite loop?)\n",
      "    while executing\n",
      "\"::tcl::Bgerror {out of stack space (infinite loop?)} {-code 1 -level 0 -errorcode NONE -errorinfo {out of stack space (infinite loop?)\n",
      "    while execu...\"\n",
      "error in background error handler:\n",
      "out of stack space (infinite loop?)\n",
      "    while executing\n",
      "\"::tcl::Bgerror {out of stack space (infinite loop?)} {-code 1 -level 0 -errorcode NONE -errorinfo {out of stack space (infinite loop?)\n",
      "    while execu...\"\n",
      "error in background error handler:\n",
      "out of stack space (infinite loop?)\n",
      "    while executing\n",
      "\"::tcl::Bgerror {out of stack space (infinite loop?)} {-code 1 -level 0 -errorcode NONE -errorinfo {out of stack space (infinite loop?)\n",
      "    while execu...\"\n",
      "error in background error handler:\n",
      "out of stack space (infinite loop?)\n",
      "    while executing\n",
      "\"::tcl::Bgerror {out of stack space (infinite loop?)} {-code 1 -level 0 -errorcode NONE -errorinfo {out of stack space (infinite loop?)\n",
      "    while execu...\"\n",
      "error in background error handler:\n",
      "out of stack space (infinite loop?)\n",
      "    while executing\n",
      "\"::tcl::Bgerror {out of stack space (infinite loop?)} {-code 1 -level 0 -errorcode NONE -errorinfo {out of stack space (infinite loop?)\n",
      "    while execu...\"\n",
      "error in background error handler:\n",
      "out of stack space (infinite loop?)\n",
      "    while executing\n",
      "\"::tcl::Bgerror {out of stack space (infinite loop?)} {-code 1 -level 0 -errorcode NONE -errorinfo {out of stack space (infinite loop?)\n",
      "    while execu...\"\n",
      "error in background error handler:\n",
      "out of stack space (infinite loop?)\n",
      "    while executing\n",
      "\"::tcl::Bgerror {out of stack space (infinite loop?)} {-code 1 -level 0 -errorcode NONE -errorinfo {out of stack space (infinite loop?)\n",
      "    while execu...\"\n",
      "error in background error handler:\n",
      "out of stack space (infinite loop?)\n",
      "    while executing\n",
      "\"::tcl::Bgerror {out of stack space (infinite loop?)} {-code 1 -level 0 -errorcode NONE -errorinfo {out of stack space (infinite loop?)\n",
      "    while execu...\"\n",
      "error in background error handler:\n",
      "out of stack space (infinite loop?)\n",
      "    while executing\n",
      "\"::tcl::Bgerror {out of stack space (infinite loop?)} {-code 1 -level 0 -errorcode NONE -errorinfo {out of stack space (infinite loop?)\n",
      "    while execu...\"\n",
      "error in background error handler:\n",
      "out of stack space (infinite loop?)\n",
      "    while executing\n",
      "\"::tcl::Bgerror {out of stack space (infinite loop?)} {-code 1 -level 0 -errorcode NONE -errorinfo {out of stack space (infinite loop?)\n",
      "    while execu...\"\n",
      "error in background error handler:\n",
      "out of stack space (infinite loop?)\n",
      "    while executing\n",
      "\"::tcl::Bgerror {out of stack space (infinite loop?)} {-code 1 -level 0 -errorcode NONE -errorinfo {out of stack space (infinite loop?)\n",
      "    while execu...\"\n",
      "error in background error handler:\n",
      "out of stack space (infinite loop?)\n",
      "    while executing\n",
      "\"::tcl::Bgerror {out of stack space (infinite loop?)} {-code 1 -level 0 -errorcode NONE -errorinfo {out of stack space (infinite loop?)\n",
      "    while execu...\"\n",
      "error in background error handler:\n",
      "out of stack space (infinite loop?)\n",
      "    while executing\n",
      "\"::tcl::Bgerror {out of stack space (infinite loop?)} {-code 1 -level 0 -errorcode NONE -errorinfo {out of stack space (infinite loop?)\n",
      "    while execu...\"\n",
      "error in background error handler:\n",
      "out of stack space (infinite loop?)\n",
      "    while executing\n",
      "\"::tcl::Bgerror {out of stack space (infinite loop?)} {-code 1 -level 0 -errorcode NONE -errorinfo {out of stack space (infinite loop?)\n",
      "    while execu...\"\n"
     ]
    }
   ],
   "source": [
    "plot_single_tariff_category_per_company_with_model_prediction(all_ice, \"Residential\", \"ICE\", res_consumption, res_model_predictions)"
   ]
  },
  {
   "cell_type": "code",
   "execution_count": 6,
   "metadata": {},
   "outputs": [
    {
     "name": "stderr",
     "output_type": "stream",
     "text": [
      "error in background error handler:\n",
      "out of stack space (infinite loop?)\n",
      "    while executing\n",
      "\"::tcl::Bgerror {out of stack space (infinite loop?)} {-code 1 -level 0 -errorcode NONE -errorinfo {out of stack space (infinite loop?)\n",
      "    while execu...\"\n"
     ]
    },
    {
     "ename": "InterruptException",
     "evalue": "InterruptException:",
     "output_type": "error",
     "traceback": [
      "InterruptException:",
      "",
      "Stacktrace:",
      " [1] #annual_energy_balance#31(::Bool, ::Function, ::CommIndus, ::PVSystem) at /Users/arnavgautam/Documents/Research/Jose_Daniel_Lara/arnav_PVCR/functions/balance_energy.jl:94",
      " [2] #annual_energy_balance at ./none:0 [inlined]",
      " [3] #PV_savings#68(::Bool, ::Function, ::CommIndus, ::PVSystem) at /Users/arnavgautam/Documents/Research/Jose_Daniel_Lara/arnav_PVCR/functions/optimal_pvsystem.jl:9",
      " [4] #PV_savings at ./none:0 [inlined]",
      " [5] #PV_cashflow#69(::Bool, ::Function, ::CommIndus, ::PVSystem, ::Financial) at /Users/arnavgautam/Documents/Research/Jose_Daniel_Lara/arnav_PVCR/functions/optimal_pvsystem.jl:39",
      " [6] #PV_cashflow at ./none:0 [inlined]",
      " [7] #optimal_pv#72(::Bool, ::Function, ::CommIndus, ::PVSystem, ::StepRangeLen{Float64,Base.TwicePrecision{Float64},Base.TwicePrecision{Float64}}, ::Financial) at /Users/arnavgautam/Documents/Research/Jose_Daniel_Lara/arnav_PVCR/functions/optimal_pvsystem.jl:124",
      " [8] (::getfield(Main, Symbol(\"#kw##optimal_pv\")))(::NamedTuple{(:tariff_increase,),Tuple{Bool}}, ::typeof(optimal_pv), ::CommIndus, ::PVSystem, ::StepRangeLen{Float64,Base.TwicePrecision{Float64},Base.TwicePrecision{Float64}}, ::Financial) at ./none:0",
      " [9] top-level scope at ./In[6]:13"
     ]
    }
   ],
   "source": [
    "# Commerical Industrial\n",
    "consumption1 = 100:100:1000\n",
    "comind_model_predictions = []\n",
    "for (ix, co) in enumerate(consumption1)\n",
    "    ice_commercial.econsumption = co; get_pmax(ice_commercial);\n",
    "    res = optimal_pv(ice_commercial, PVRes, 0.0:10:100, BAC1, tariff_increase = true)\n",
    "    push!(comind_model_predictions, res[1][2])\n",
    "end\n",
    "\n",
    "consumption2 = 2000:1000:10000\n",
    "for (ix, co) in enumerate(consumption2)\n",
    "    ice_commercial.econsumption = co; get_pmax(ice_commercial);\n",
    "    res = optimal_pv(ice_commercial, PVRes, 0.0:10:200, BAC1, tariff_increase = true)\n",
    "    push!(comind_model_predictions, res[1][2])\n",
    "end\n",
    "\n",
    "consumption3 = 20000:10000:100000\n",
    "for (ix, co) in enumerate(consumption3)\n",
    "    ice_industrial.econsumption = co; get_pmax(ice_industrial);\n",
    "    res = optimal_pv(ice_industrial, PVRes, 0.0:20:300, BAC1, tariff_increase = true)\n",
    "    push!(comind_model_predictions, res[1][2])\n",
    "end\n",
    "\n",
    "comind_consumption = vcat(consumption1, consumption2, consumption3);"
   ]
  },
  {
   "cell_type": "code",
   "execution_count": 7,
   "metadata": {},
   "outputs": [
    {
     "ename": "UndefVarError",
     "evalue": "UndefVarError: comind_consumption not defined",
     "output_type": "error",
     "traceback": [
      "UndefVarError: comind_consumption not defined",
      "",
      "Stacktrace:",
      " [1] top-level scope at In[7]:1"
     ]
    }
   ],
   "source": [
    "plot_single_tariff_category_per_company_with_model_prediction(all_ice, \"Commercial Industrial\", \"ICE\", comind_consumption, comind_model_predictions)"
   ]
  },
  {
   "cell_type": "code",
   "execution_count": 8,
   "metadata": {},
   "outputs": [],
   "source": [
    "# Medium Voltage\n",
    "consumption1 = 500:500:10000\n",
    "tmt_model_predictions = []\n",
    "for (ix, co) in enumerate(consumption1)\n",
    "    ice_mediumvoltage.econsumption = co; get_pmax(ice_mediumvoltage);\n",
    "    res = optimal_pv(ice_mediumvoltage, PVRes, 0.0:50:500, BAC1, tariff_increase = true)\n",
    "    push!(tmt_model_predictions, res[1][2])\n",
    "end\n",
    "\n",
    "consumption2 = 10000:10000:200000\n",
    "for (ix, co) in enumerate(consumption2)\n",
    "    ice_mediumvoltage.econsumption = co; get_pmax(ice_mediumvoltage);\n",
    "    res = optimal_pv(ice_mediumvoltage, PVRes, 0.0:50:500, BAC1, tariff_increase = true)\n",
    "    push!(tmt_model_predictions, res[1][2])\n",
    "end\n",
    "\n",
    "consumption3 = 200000:100000:600000\n",
    "for (ix, co) in enumerate(consumption3)\n",
    "    ice_mediumvoltage.econsumption = co; get_pmax(ice_mediumvoltage);\n",
    "    res = optimal_pv(ice_mediumvoltage, PVRes, 0.0:50:500, BAC1, tariff_increase = true)\n",
    "    push!(tmt_model_predictions, res[1][2])\n",
    "end\n",
    "\n",
    "tmt_consumption = vcat(consumption1, consumption2, consumption3);"
   ]
  },
  {
   "cell_type": "code",
   "execution_count": 9,
   "metadata": {},
   "outputs": [
    {
     "name": "stderr",
     "output_type": "stream",
     "text": [
      "error in background error handler:\n",
      "out of stack space (infinite loop?)\n",
      "    while executing\n",
      "\"::tcl::Bgerror {out of stack space (infinite loop?)} {-code 1 -level 0 -errorcode NONE -errorinfo {out of stack space (infinite loop?)\n",
      "    while execu...\"\n",
      "error in background error handler:\n",
      "out of stack space (infinite loop?)\n",
      "    while executing\n",
      "\"::tcl::Bgerror {out of stack space (infinite loop?)} {-code 1 -level 0 -errorcode NONE -errorinfo {out of stack space (infinite loop?)\n",
      "    (\"after\" sc...\"\n",
      "error in background error handler:\n",
      "out of stack space (infinite loop?)\n",
      "    while executing\n",
      "\"::tcl::Bgerror {out of stack space (infinite loop?)} {-code 1 -level 0 -errorcode NONE -errorinfo {out of stack space (infinite loop?)\n",
      "    while execu...\"\n",
      "error in background error handler:\n",
      "out of stack space (infinite loop?)\n",
      "    while executing\n",
      "\"::tcl::Bgerror {out of stack space (infinite loop?)} {-code 1 -level 0 -errorcode NONE -errorinfo {out of stack space (infinite loop?)\n",
      "    while execu...\"\n"
     ]
    },
    {
     "data": {
      "text/plain": [
       "PyObject Text(0.5, 1.0, 'PV System Capacity for ICE Consumer with Tariff Medium Voltage')"
      ]
     },
     "execution_count": 9,
     "metadata": {},
     "output_type": "execute_result"
    }
   ],
   "source": [
    "plot_single_tariff_category_per_company_with_model_prediction(all_ice, \"Medium Voltage\", \"ICE\", tmt_consumption, tmt_model_predictions)"
   ]
  },
  {
   "cell_type": "code",
   "execution_count": null,
   "metadata": {},
   "outputs": [],
   "source": []
  }
 ],
 "metadata": {
  "kernelspec": {
   "display_name": "Julia 1.1.1",
   "language": "julia",
   "name": "julia-1.1"
  },
  "language_info": {
   "file_extension": ".jl",
   "mimetype": "application/julia",
   "name": "julia",
   "version": "1.1.1"
  }
 },
 "nbformat": 4,
 "nbformat_minor": 2
}
