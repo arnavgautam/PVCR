{
 "cells": [
  {
   "cell_type": "code",
   "execution_count": null,
   "metadata": {},
   "outputs": [],
   "source": [
    "# using DataFrames\n",
    "# using CSV\n",
    "include(\"PVCR.jl\");\n",
    "include(\"functions/plotting_base_gd.jl\")"
   ]
  },
  {
   "cell_type": "code",
   "execution_count": null,
   "metadata": {},
   "outputs": [],
   "source": [
    "# Read in all of the utility bills for the various utilities and tariff types\n",
    "base_GD = CSV.read(\"data/Base_GD.csv\")\n",
    "\n",
    "# Narrow down to {Residential | Commerical Industrial | Medium Voltage} ICE customers\n",
    "\n",
    "all_ice = filter(row -> (!ismissing(row.EMPRESA) && row.EMPRESA == \"ICE\"), base_GD)"
   ]
  },
  {
   "cell_type": "code",
   "execution_count": null,
   "metadata": {},
   "outputs": [],
   "source": [
    "# Plot out what consumers truly install\n",
    "plot_all_tariffs_per_company(all_ice, \"ICE\")"
   ]
  },
  {
   "cell_type": "code",
   "execution_count": null,
   "metadata": {},
   "outputs": [],
   "source": [
    "# Compare this real-world data with the predicted adoption of the economically rational model in Notebook 4\n",
    "\n",
    "# Residential\n",
    "res_consumption = 100:100:5000\n",
    "res_model_predictions = []\n",
    "for (ix, co) in enumerate(res_consumption)\n",
    "    ice_residential.econsumption = co; get_pmax(ice_residential);\n",
    "    res = optimal_pv(ice_residential, PVRes, 0.0:2:30, BAC1, tariff_increase = true)\n",
    "    push!(res_model_predictions, res[1][2])\n",
    "end"
   ]
  },
  {
   "cell_type": "code",
   "execution_count": null,
   "metadata": {},
   "outputs": [],
   "source": [
    "plot_single_tariff_category_per_company_with_model_prediction(all_ice, \"Residential\", \"ICE\", res_consumption, res_model_predictions)"
   ]
  },
  {
   "cell_type": "code",
   "execution_count": null,
   "metadata": {},
   "outputs": [],
   "source": [
    "# Commerical Industrial\n",
    "consumption1 = 100:100:1000\n",
    "comind_model_predictions = []\n",
    "for (ix, co) in enumerate(consumption1)\n",
    "    ice_commercial.econsumption = co; get_pmax(ice_commercial);\n",
    "    res = optimal_pv(ice_commercial, PVRes, 0.0:10:100, BAC1, tariff_increase = true)\n",
    "    push!(comind_model_predictions, res[1][2])\n",
    "end\n",
    "\n",
    "consumption2 = 2000:1000:10000\n",
    "for (ix, co) in enumerate(consumption2)\n",
    "    ice_commercial.econsumption = co; get_pmax(ice_commercial);\n",
    "    res = optimal_pv(ice_commercial, PVRes, 0.0:10:200, BAC1, tariff_increase = true)\n",
    "    push!(comind_model_predictions, res[1][2])\n",
    "end\n",
    "\n",
    "consumption3 = 20000:10000:100000\n",
    "for (ix, co) in enumerate(consumption3)\n",
    "    ice_industrial.econsumption = co; get_pmax(ice_industrial);\n",
    "    res = optimal_pv(ice_industrial, PVRes, 0.0:20:300, BAC1, tariff_increase = true)\n",
    "    push!(comind_model_predictions, res[1][2])\n",
    "end\n",
    "\n",
    "comind_consumption = vcat(consumption1, consumption2, consumption3);"
   ]
  },
  {
   "cell_type": "code",
   "execution_count": null,
   "metadata": {},
   "outputs": [],
   "source": [
    "plot_single_tariff_category_per_company_with_model_prediction(all_ice, \"Commercial Industrial\", \"ICE\", comind_consumption, comind_model_predictions)"
   ]
  },
  {
   "cell_type": "code",
   "execution_count": null,
   "metadata": {},
   "outputs": [],
   "source": [
    "# Medium Voltage\n",
    "consumption1 = 500:500:10000\n",
    "tmt_model_predictions = []\n",
    "for (ix, co) in enumerate(consumption1)\n",
    "    ice_mediumvoltage.econsumption = co; get_pmax(ice_mediumvoltage);\n",
    "    res = optimal_pv(ice_mediumvoltage, PVRes, 0.0:50:500, BAC1, tariff_increase = true)\n",
    "    push!(tmt_model_predictions, res[1][2])\n",
    "end\n",
    "\n",
    "consumption2 = 10000:10000:200000\n",
    "for (ix, co) in enumerate(consumption2)\n",
    "    ice_mediumvoltage.econsumption = co; get_pmax(ice_mediumvoltage);\n",
    "    res = optimal_pv(ice_mediumvoltage, PVRes, 0.0:50:500, BAC1, tariff_increase = true)\n",
    "    push!(tmt_model_predictions, res[1][2])\n",
    "end\n",
    "\n",
    "consumption3 = 200000:100000:600000\n",
    "for (ix, co) in enumerate(consumption3)\n",
    "    ice_mediumvoltage.econsumption = co; get_pmax(ice_mediumvoltage);\n",
    "    res = optimal_pv(ice_mediumvoltage, PVRes, 0.0:50:500, BAC1, tariff_increase = true)\n",
    "    push!(tmt_model_predictions, res[1][2])\n",
    "end\n",
    "\n",
    "tmt_consumption = vcat(consumption1, consumption2, consumption3);"
   ]
  },
  {
   "cell_type": "code",
   "execution_count": null,
   "metadata": {},
   "outputs": [],
   "source": [
    "plot_single_tariff_category_per_company_with_model_prediction(all_ice, \"Medium Voltage\", \"ICE\", tmt_consumption, tmt_model_predictions)"
   ]
  },
  {
   "cell_type": "code",
   "execution_count": null,
   "metadata": {},
   "outputs": [],
   "source": []
  }
 ],
 "metadata": {
  "kernelspec": {
   "display_name": "Julia 1.1.1",
   "language": "julia",
   "name": "julia-1.1"
  },
  "language_info": {
   "file_extension": ".jl",
   "mimetype": "application/julia",
   "name": "julia",
   "version": "1.1.1"
  }
 },
 "nbformat": 4,
 "nbformat_minor": 2
}
