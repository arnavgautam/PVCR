{
 "cells": [
  {
   "cell_type": "code",
   "execution_count": 12,
   "metadata": {
    "scrolled": true
   },
   "outputs": [
    {
     "data": {
      "text/plain": [
       "true"
      ]
     },
     "execution_count": 12,
     "metadata": {},
     "output_type": "execute_result"
    }
   ],
   "source": [
    "# using DataFrames\n",
    "# using CSV\n",
    "include(\"PVCR.jl\");\n",
    "include(\"functions/plotting_base_gd.jl\")\n",
    "pygui(true)"
   ]
  },
  {
   "cell_type": "code",
   "execution_count": 2,
   "metadata": {
    "scrolled": true
   },
   "outputs": [
    {
     "data": {
      "text/html": [
       "<table class=\"data-frame\"><thead><tr><th></th><th>ANNO</th><th>MES</th><th>ENERGIA_GENERADA</th><th>ENERGIA_DEPOSITADA</th><th>ENERGIA_RETIRADA</th><th>IMPORTE_POR_ENERGIA_RETIRADA</th></tr><tr><th></th><th>Int64</th><th>Int64</th><th>Float64⍰</th><th>Float64⍰</th><th>Float64⍰</th><th>Float64⍰</th></tr></thead><tbody><p>6,923 rows × 17 columns (omitted printing of 11 columns)</p><tr><th>1</th><td>2018</td><td>1</td><td>209.0</td><td>117.0</td><td>102.0</td><td>2145.0</td></tr><tr><th>2</th><td>2018</td><td>2</td><td>235.0</td><td>122.0</td><td>115.0</td><td>2420.0</td></tr><tr><th>3</th><td>2018</td><td>3</td><td>305.0</td><td>169.0</td><td>149.0</td><td>3135.0</td></tr><tr><th>4</th><td>2018</td><td>4</td><td>355.0</td><td>217.0</td><td>173.0</td><td>3640.0</td></tr><tr><th>5</th><td>2018</td><td>5</td><td>338.0</td><td>185.0</td><td>165.0</td><td>3470.0</td></tr><tr><th>6</th><td>2018</td><td>1</td><td>432.0</td><td>296.0</td><td>211.0</td><td>4435.0</td></tr><tr><th>7</th><td>2018</td><td>2</td><td>482.0</td><td>323.0</td><td>236.0</td><td>4965.0</td></tr><tr><th>8</th><td>2018</td><td>3</td><td>614.0</td><td>448.0</td><td>300.0</td><td>6310.0</td></tr><tr><th>9</th><td>2018</td><td>4</td><td>710.0</td><td>547.0</td><td>293.0</td><td>6160.0</td></tr><tr><th>10</th><td>2018</td><td>5</td><td>686.0</td><td>458.0</td><td>390.0</td><td>8200.0</td></tr><tr><th>11</th><td>2018</td><td>1</td><td>267.0</td><td>83.0</td><td>83.0</td><td>1745.0</td></tr><tr><th>12</th><td>2018</td><td>2</td><td>279.0</td><td>121.0</td><td>121.0</td><td>2545.0</td></tr><tr><th>13</th><td>2018</td><td>3</td><td>301.0</td><td>115.0</td><td>115.0</td><td>2420.0</td></tr><tr><th>14</th><td>2018</td><td>4</td><td>340.0</td><td>126.0</td><td>126.0</td><td>2650.0</td></tr><tr><th>15</th><td>2018</td><td>5</td><td>5278.0</td><td>122.0</td><td>122.0</td><td>2565.0</td></tr><tr><th>16</th><td>2018</td><td>1</td><td>754.0</td><td>115.0</td><td>115.0</td><td>2420.0</td></tr><tr><th>17</th><td>2018</td><td>2</td><td>858.0</td><td>165.0</td><td>165.0</td><td>3470.0</td></tr><tr><th>18</th><td>2018</td><td>3</td><td>932.0</td><td>234.0</td><td>234.0</td><td>4920.0</td></tr><tr><th>19</th><td>2018</td><td>4</td><td>856.0</td><td>185.0</td><td>185.0</td><td>3890.0</td></tr><tr><th>20</th><td>2018</td><td>5</td><td>859.0</td><td>193.0</td><td>193.0</td><td>4060.0</td></tr><tr><th>21</th><td>2018</td><td>1</td><td>552.0</td><td>427.0</td><td>270.0</td><td>5680.0</td></tr><tr><th>22</th><td>2018</td><td>2</td><td>632.0</td><td>520.0</td><td>309.0</td><td>6500.0</td></tr><tr><th>23</th><td>2018</td><td>3</td><td>662.0</td><td>543.0</td><td>324.0</td><td>6815.0</td></tr><tr><th>24</th><td>2018</td><td>4</td><td>767.0</td><td>651.0</td><td>374.0</td><td>7865.0</td></tr><tr><th>25</th><td>2018</td><td>5</td><td>658.0</td><td>527.0</td><td>323.0</td><td>6795.0</td></tr><tr><th>26</th><td>2018</td><td>4</td><td>650.0</td><td>373.0</td><td>318.0</td><td>6690.0</td></tr><tr><th>27</th><td>2018</td><td>5</td><td>557.0</td><td>336.0</td><td>272.0</td><td>5720.0</td></tr><tr><th>28</th><td>2018</td><td>1</td><td>365.0</td><td>260.0</td><td>178.0</td><td>3745.0</td></tr><tr><th>29</th><td>2018</td><td>2</td><td>401.0</td><td>268.0</td><td>196.0</td><td>4120.0</td></tr><tr><th>30</th><td>2018</td><td>3</td><td>554.0</td><td>401.0</td><td>271.0</td><td>5700.0</td></tr><tr><th>&vellip;</th><td>&vellip;</td><td>&vellip;</td><td>&vellip;</td><td>&vellip;</td><td>&vellip;</td><td>&vellip;</td></tr></tbody></table>"
      ],
      "text/latex": [
       "\\begin{tabular}{r|ccccccc}\n",
       "\t& ANNO & MES & ENERGIA\\_GENERADA & ENERGIA\\_DEPOSITADA & ENERGIA\\_RETIRADA & IMPORTE\\_POR\\_ENERGIA\\_RETIRADA & \\\\\n",
       "\t\\hline\n",
       "\t& Int64 & Int64 & Float64⍰ & Float64⍰ & Float64⍰ & Float64⍰ & \\\\\n",
       "\t\\hline\n",
       "\t1 & 2018 & 1 & 209.0 & 117.0 & 102.0 & 2145.0 & $\\dots$ \\\\\n",
       "\t2 & 2018 & 2 & 235.0 & 122.0 & 115.0 & 2420.0 & $\\dots$ \\\\\n",
       "\t3 & 2018 & 3 & 305.0 & 169.0 & 149.0 & 3135.0 & $\\dots$ \\\\\n",
       "\t4 & 2018 & 4 & 355.0 & 217.0 & 173.0 & 3640.0 & $\\dots$ \\\\\n",
       "\t5 & 2018 & 5 & 338.0 & 185.0 & 165.0 & 3470.0 & $\\dots$ \\\\\n",
       "\t6 & 2018 & 1 & 432.0 & 296.0 & 211.0 & 4435.0 & $\\dots$ \\\\\n",
       "\t7 & 2018 & 2 & 482.0 & 323.0 & 236.0 & 4965.0 & $\\dots$ \\\\\n",
       "\t8 & 2018 & 3 & 614.0 & 448.0 & 300.0 & 6310.0 & $\\dots$ \\\\\n",
       "\t9 & 2018 & 4 & 710.0 & 547.0 & 293.0 & 6160.0 & $\\dots$ \\\\\n",
       "\t10 & 2018 & 5 & 686.0 & 458.0 & 390.0 & 8200.0 & $\\dots$ \\\\\n",
       "\t11 & 2018 & 1 & 267.0 & 83.0 & 83.0 & 1745.0 & $\\dots$ \\\\\n",
       "\t12 & 2018 & 2 & 279.0 & 121.0 & 121.0 & 2545.0 & $\\dots$ \\\\\n",
       "\t13 & 2018 & 3 & 301.0 & 115.0 & 115.0 & 2420.0 & $\\dots$ \\\\\n",
       "\t14 & 2018 & 4 & 340.0 & 126.0 & 126.0 & 2650.0 & $\\dots$ \\\\\n",
       "\t15 & 2018 & 5 & 5278.0 & 122.0 & 122.0 & 2565.0 & $\\dots$ \\\\\n",
       "\t16 & 2018 & 1 & 754.0 & 115.0 & 115.0 & 2420.0 & $\\dots$ \\\\\n",
       "\t17 & 2018 & 2 & 858.0 & 165.0 & 165.0 & 3470.0 & $\\dots$ \\\\\n",
       "\t18 & 2018 & 3 & 932.0 & 234.0 & 234.0 & 4920.0 & $\\dots$ \\\\\n",
       "\t19 & 2018 & 4 & 856.0 & 185.0 & 185.0 & 3890.0 & $\\dots$ \\\\\n",
       "\t20 & 2018 & 5 & 859.0 & 193.0 & 193.0 & 4060.0 & $\\dots$ \\\\\n",
       "\t21 & 2018 & 1 & 552.0 & 427.0 & 270.0 & 5680.0 & $\\dots$ \\\\\n",
       "\t22 & 2018 & 2 & 632.0 & 520.0 & 309.0 & 6500.0 & $\\dots$ \\\\\n",
       "\t23 & 2018 & 3 & 662.0 & 543.0 & 324.0 & 6815.0 & $\\dots$ \\\\\n",
       "\t24 & 2018 & 4 & 767.0 & 651.0 & 374.0 & 7865.0 & $\\dots$ \\\\\n",
       "\t25 & 2018 & 5 & 658.0 & 527.0 & 323.0 & 6795.0 & $\\dots$ \\\\\n",
       "\t26 & 2018 & 4 & 650.0 & 373.0 & 318.0 & 6690.0 & $\\dots$ \\\\\n",
       "\t27 & 2018 & 5 & 557.0 & 336.0 & 272.0 & 5720.0 & $\\dots$ \\\\\n",
       "\t28 & 2018 & 1 & 365.0 & 260.0 & 178.0 & 3745.0 & $\\dots$ \\\\\n",
       "\t29 & 2018 & 2 & 401.0 & 268.0 & 196.0 & 4120.0 & $\\dots$ \\\\\n",
       "\t30 & 2018 & 3 & 554.0 & 401.0 & 271.0 & 5700.0 & $\\dots$ \\\\\n",
       "\t$\\dots$ & $\\dots$ & $\\dots$ & $\\dots$ & $\\dots$ & $\\dots$ & $\\dots$ &  \\\\\n",
       "\\end{tabular}\n"
      ],
      "text/plain": [
       "6923×17 DataFrame. Omitted printing of 13 columns\n",
       "│ Row  │ ANNO  │ MES   │ ENERGIA_GENERADA │ ENERGIA_DEPOSITADA │\n",
       "│      │ \u001b[90mInt64\u001b[39m │ \u001b[90mInt64\u001b[39m │ \u001b[90mFloat64⍰\u001b[39m         │ \u001b[90mFloat64⍰\u001b[39m           │\n",
       "├──────┼───────┼───────┼──────────────────┼────────────────────┤\n",
       "│ 1    │ 2018  │ 1     │ 209.0            │ 117.0              │\n",
       "│ 2    │ 2018  │ 2     │ 235.0            │ 122.0              │\n",
       "│ 3    │ 2018  │ 3     │ 305.0            │ 169.0              │\n",
       "│ 4    │ 2018  │ 4     │ 355.0            │ 217.0              │\n",
       "│ 5    │ 2018  │ 5     │ 338.0            │ 185.0              │\n",
       "│ 6    │ 2018  │ 1     │ 432.0            │ 296.0              │\n",
       "│ 7    │ 2018  │ 2     │ 482.0            │ 323.0              │\n",
       "│ 8    │ 2018  │ 3     │ 614.0            │ 448.0              │\n",
       "│ 9    │ 2018  │ 4     │ 710.0            │ 547.0              │\n",
       "│ 10   │ 2018  │ 5     │ 686.0            │ 458.0              │\n",
       "⋮\n",
       "│ 6913 │ 2017  │ 12    │ 381.0            │ 225.0              │\n",
       "│ 6914 │ 2017  │ 12    │ 2.0              │ 0.0                │\n",
       "│ 6915 │ 2017  │ 12    │ 2770.0           │ 0.0                │\n",
       "│ 6916 │ 2017  │ 12    │ 5011.0           │ 0.0                │\n",
       "│ 6917 │ 2017  │ 12    │ 2175.0           │ 0.0                │\n",
       "│ 6918 │ 2017  │ 12    │ 2.0              │ 0.0                │\n",
       "│ 6919 │ 2017  │ 12    │ 2165.0           │ 370.0              │\n",
       "│ 6920 │ 2017  │ 12    │ 2493.0           │ 720.0              │\n",
       "│ 6921 │ 2017  │ 12    │ 117.0            │ 65.0               │\n",
       "│ 6922 │ 2017  │ 12    │ 4277.0           │ 0.0                │\n",
       "│ 6923 │ 2017  │ 12    │ 1160.0           │ 0.0                │"
      ]
     },
     "execution_count": 2,
     "metadata": {},
     "output_type": "execute_result"
    }
   ],
   "source": [
    "# Read in all of the utility bills for the various utilities and tariff types\n",
    "base_GD = CSV.read(\"data/Base_GD.csv\")\n",
    "\n",
    "# Narrow down to {Residential | Commerical Industrial | Medium Voltage} CNFL customers\n",
    "\n",
    "all_cnfl = filter(row -> (!ismissing(row.EMPRESA) && row.EMPRESA == \"CNFL\"), base_GD)"
   ]
  },
  {
   "cell_type": "code",
   "execution_count": null,
   "metadata": {
    "scrolled": false
   },
   "outputs": [],
   "source": [
    "plot_all_tariffs_per_company(all_cnfl, \"CNFL\")"
   ]
  },
  {
   "cell_type": "code",
   "execution_count": 3,
   "metadata": {},
   "outputs": [],
   "source": [
    "# Compare this real-world data with the predicted adoption of the economically rational model in Notebook 4\n",
    "\n",
    "# Residential\n",
    "res_consumption = 100:100:5000\n",
    "res_model_predictions = []\n",
    "for (ix, co) in enumerate(res_consumption)\n",
    "    cnfl_residential.econsumption = co; get_pmax(cnfl_residential);\n",
    "    res = optimal_pv(cnfl_residential, PVRes, 0.0:2:50, BAC1, tariff_increase = true)\n",
    "    push!(res_model_predictions, res[1][2])\n",
    "end"
   ]
  },
  {
   "cell_type": "code",
   "execution_count": 13,
   "metadata": {
    "scrolled": true
   },
   "outputs": [
    {
     "data": {
      "text/plain": [
       "PyObject Text(0.5, 1, 'PV System Capacity for CNFL Consumer with Tariff Residential')"
      ]
     },
     "execution_count": 13,
     "metadata": {},
     "output_type": "execute_result"
    }
   ],
   "source": [
    "plot_single_tariff_category_per_company_with_model_prediction(all_cnfl, \"Residential\", \"CNFL\", res_consumption, res_model_predictions)"
   ]
  },
  {
   "cell_type": "code",
   "execution_count": null,
   "metadata": {},
   "outputs": [],
   "source": [
    "# Commerical Industrial\n",
    "consumption1 = 100:100:1000\n",
    "comind_model_predictions = []\n",
    "for (ix, co) in enumerate(consumption1)\n",
    "    cnfl_commercial.econsumption = co; get_pmax(cnfl_commercial);\n",
    "    res = optimal_pv(cnfl_commercial, PVRes, 0.0:10:100, BAC1, tariff_increase = true)\n",
    "    push!(comind_model_predictions, res[1][2])\n",
    "end\n",
    "\n",
    "consumption2 = 2000:1000:10000\n",
    "for (ix, co) in enumerate(consumption2)\n",
    "    cnfl_commercial.econsumption = co; get_pmax(cnfl_commercial);\n",
    "    res = optimal_pv(cnfl_commercial, PVRes, 0.0:10:200, BAC1, tariff_increase = true)\n",
    "    push!(comind_model_predictions, res[1][2])\n",
    "end\n",
    "\n",
    "consumption3 = 20000:10000:50000\n",
    "for (ix, co) in enumerate(consumption3)\n",
    "    cnfl_industrial.econsumption = co; get_pmax(cnfl_industrial);\n",
    "    res = optimal_pv(cnfl_industrial, PVRes, 0.0:20:300, BAC1, tariff_increase = true)\n",
    "    push!(comind_model_predictions, res[1][2])\n",
    "end\n",
    "\n",
    "comind_consumption = vcat(consumption1, consumption2, consumption3);"
   ]
  },
  {
   "cell_type": "code",
   "execution_count": null,
   "metadata": {
    "scrolled": true
   },
   "outputs": [],
   "source": [
    "plot_single_tariff_category_per_company_with_model_prediction(all_cnfl, \"Commercial Industrial\", \"CNFL\", comind_consumption, comind_model_predictions)"
   ]
  },
  {
   "cell_type": "code",
   "execution_count": null,
   "metadata": {},
   "outputs": [],
   "source": [
    "# Medium Voltage\n",
    "consumption1 = 500:500:10000\n",
    "tmt_model_predictions = []\n",
    "for (ix, co) in enumerate(consumption1)\n",
    "    cnfl_mediumvoltage.econsumption = co; get_pmax(cnfl_mediumvoltage);\n",
    "    res = optimal_pv(cnfl_mediumvoltage, PVRes, 0.0:50:200, BAC1, tariff_increase = true)\n",
    "    push!(tmt_model_predictions, res[1][2])\n",
    "end\n",
    "\n",
    "consumption2 = 10000:10000:200000\n",
    "for (ix, co) in enumerate(consumption2)\n",
    "    cnfl_mediumvoltage.econsumption = co; get_pmax(cnfl_mediumvoltage);\n",
    "    res = optimal_pv(cnfl_mediumvoltage, PVRes, 0.0:50:200, BAC1, tariff_increase = true)\n",
    "    push!(tmt_model_predictions, res[1][2])\n",
    "end\n",
    "\n",
    "consumption3 = 200000:100000:600000\n",
    "for (ix, co) in enumerate(consumption3)\n",
    "    cnfl_mediumvoltage.econsumption = co; get_pmax(cnfl_mediumvoltage);\n",
    "    res = optimal_pv(cnfl_mediumvoltage, PVRes, 0.0:50:200, BAC1, tariff_increase = true)\n",
    "    push!(tmt_model_predictions, res[1][2])\n",
    "end\n",
    "\n",
    "tmt_consumption = vcat(consumption1, consumption2, consumption3);"
   ]
  },
  {
   "cell_type": "code",
   "execution_count": null,
   "metadata": {},
   "outputs": [],
   "source": [
    "plot_single_tariff_category_per_company_with_model_prediction(all_cnfl, \"Medium Voltage\", \"CNFL\", tmt_consumption, tmt_model_predictions)"
   ]
  },
  {
   "cell_type": "code",
   "execution_count": null,
   "metadata": {},
   "outputs": [],
   "source": []
  }
 ],
 "metadata": {
  "kernelspec": {
   "display_name": "Julia 1.1.1",
   "language": "julia",
   "name": "julia-1.1"
  },
  "language_info": {
   "file_extension": ".jl",
   "mimetype": "application/julia",
   "name": "julia",
   "version": "1.1.1"
  }
 },
 "nbformat": 4,
 "nbformat_minor": 2
}
